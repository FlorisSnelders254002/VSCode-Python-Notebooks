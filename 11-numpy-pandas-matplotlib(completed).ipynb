{
 "cells": [
  {
   "cell_type": "markdown",
   "id": "716ab766",
   "metadata": {},
   "source": [
    "# 11. NumPy, Pandas, Matplotlib"
   ]
  },
  {
   "cell_type": "markdown",
   "id": "d9e53b75",
   "metadata": {},
   "source": [
    "In this notebook, you will be introduced to the three essential Python libraries for data science: **NumPy**, **pandas**, and **Matplotlib**. NumPy provides fast and efficient operations on numerical data, especially in arrays and matrices. pandas builds on NumPy to offer powerful tools for working with structured data, such as tables, with convenient ways to clean, transform, and analyze it. Matplotlib is used to create visualizations, allowing us to explore and present data graphically.\n",
    "\n",
    "A library is a collection of pre-written code that provides additional functionality to Python. You have already seen how to use the Python standard library through import, but in practice, many libraries are installed separately using tools such as `pip` or `conda`. If you created your conda environment with the yml file you should already have NumPy, pandas, Matplotlib installed.\n",
    "\n",
    "Previously, we performed a small data analysis using only pure Python. While this is possible, it often requires writing a lot of code for simple, repetitive tasks. With NumPy, pandas, and Matplotlib, these tasks become shorter, faster, and easier to read. In a typical workflow, pandas is used to store and manipulate data, NumPy handles the underlying numerical operations, and Matplotlib creates visualizations from the results."
   ]
  },
  {
   "cell_type": "markdown",
   "id": "a2b5401a",
   "metadata": {},
   "source": [
    "## 11.1 Introduction"
   ]
  },
  {
   "cell_type": "code",
   "execution_count": null,
   "id": "b423825a",
   "metadata": {},
   "outputs": [],
   "source": [
    "import numpy as np\n",
    "import pandas as pd\n",
    "import matplotlib.pyplot as plt"
   ]
  },
  {
   "cell_type": "markdown",
   "id": "3051410c",
   "metadata": {},
   "source": [
    "In W3 you learned the `import` statement and how to rename imported modules such as `import math as m`. The imports above work in a similar fashion, we give the library a short name (an alias) so we can refer to it more easily in our code.\n",
    "\n",
    "- `np` is the common alias for NumPy\n",
    "- `pd` is the common alias for pandas\n",
    "- `plt` is the common alias for Matplotlib’s plotting module\n",
    "\n",
    "These short names are not required, but they are standard in almost all Python code for data science, so you should use them to make your code easier for others to read and understand.\n",
    "\n",
    "Now let's see a single line of code from each:"
   ]
  },
  {
   "cell_type": "code",
   "execution_count": 1,
   "id": "0bebc91a",
   "metadata": {},
   "outputs": [
    {
     "ename": "NameError",
     "evalue": "name 'np' is not defined",
     "output_type": "error",
     "traceback": [
      "\u001b[31m---------------------------------------------------------------------------\u001b[39m",
      "\u001b[31mNameError\u001b[39m                                 Traceback (most recent call last)",
      "\u001b[36mCell\u001b[39m\u001b[36m \u001b[39m\u001b[32mIn[1]\u001b[39m\u001b[32m, line 2\u001b[39m\n\u001b[32m      1\u001b[39m \u001b[38;5;66;03m# here is a numpy array\u001b[39;00m\n\u001b[32m----> \u001b[39m\u001b[32m2\u001b[39m temperatures = \u001b[43mnp\u001b[49m.array([\u001b[32m22\u001b[39m, \u001b[32m19\u001b[39m, \u001b[32m23\u001b[39m, \u001b[32m25\u001b[39m, \u001b[32m20\u001b[39m])\n\u001b[32m      3\u001b[39m temperatures\n",
      "\u001b[31mNameError\u001b[39m: name 'np' is not defined"
     ]
    }
   ],
   "source": [
    "# here is a numpy array\n",
    "temperatures = np.array([22, 19, 23, 25, 20])\n",
    "temperatures"
   ]
  },
  {
   "cell_type": "code",
   "execution_count": null,
   "id": "7204428f",
   "metadata": {},
   "outputs": [],
   "source": [
    "# here is a pandas dataframe, based on the numpy array\n",
    "df = pd.DataFrame(temperatures,\n",
    "                  columns=['Temperature (°C)'],\n",
    "                  index=['Mon', 'Tue', 'Wed', 'Thu', 'Fri'])\n",
    "df"
   ]
  },
  {
   "cell_type": "code",
   "execution_count": 2,
   "id": "5649cf94",
   "metadata": {},
   "outputs": [
    {
     "ename": "NameError",
     "evalue": "name 'plt' is not defined",
     "output_type": "error",
     "traceback": [
      "\u001b[31m---------------------------------------------------------------------------\u001b[39m",
      "\u001b[31mNameError\u001b[39m                                 Traceback (most recent call last)",
      "\u001b[36mCell\u001b[39m\u001b[36m \u001b[39m\u001b[32mIn[2]\u001b[39m\u001b[32m, line 2\u001b[39m\n\u001b[32m      1\u001b[39m \u001b[38;5;66;03m# here is a matplotlib plot, based on the pandas dataframe\u001b[39;00m\n\u001b[32m----> \u001b[39m\u001b[32m2\u001b[39m \u001b[43mplt\u001b[49m.plot(df.index, df[\u001b[33m'\u001b[39m\u001b[33mTemperature (°C)\u001b[39m\u001b[33m'\u001b[39m])\n",
      "\u001b[31mNameError\u001b[39m: name 'plt' is not defined"
     ]
    }
   ],
   "source": [
    "# here is a matplotlib plot, based on the pandas dataframe\n",
    "plt.plot(df.index, df['Temperature (°C)'])"
   ]
  },
  {
   "cell_type": "markdown",
   "id": "f831fb8f",
   "metadata": {},
   "source": [
    "## 11.2 Motivation"
   ]
  },
  {
   "cell_type": "markdown",
   "id": "24fd1357",
   "metadata": {},
   "source": [
    "Now let’s replicate some of the tasks we previously did with pure Python, this time using these libraries to highlight their advantages. The goal here is not to understand every detail yet, but to see how tasks that took tens of lines in pure Python can often be done in a single line. Tutorials will follow in the next section."
   ]
  },
  {
   "cell_type": "markdown",
   "id": "336457ed",
   "metadata": {},
   "source": [
    "Remember the following problem from `7-dictionaries.ipynb`:\n",
    "\n",
    "You have given the following dataset, which contains monthly average temperatures for 3 Dutch cities.\n",
    "\n",
    "|City|Jan|Feb|Mar|Apr|May|Jun|Jul|Aug|Sep|Oct|Nov|Dec|\n",
    "|--|--|--|--|--|--|--|--|--|--|--|--|--|\n",
    "|Amsterdam|4.8|4.71|7.06|10.45|13.49|16.71|18.85|19.23|16.54|13.04|8.94|6.46|\n",
    "|Breda|3.8|4.5|8.22|12.92|16.14|19.73|21.72|21.33|17.51|13.06|8.25|5.21|\n",
    "|Eindhoven|3.6|4.27|7.8|12.26|15.31|18.72|20.61|20.24|16.62|12.39|7.83|4.94|"
   ]
  },
  {
   "cell_type": "markdown",
   "id": "179be9b5",
   "metadata": {},
   "source": [
    "let's use a pandas dataframe, `df`, to store this data"
   ]
  },
  {
   "cell_type": "code",
   "execution_count": 3,
   "id": "35bf78f3",
   "metadata": {},
   "outputs": [
    {
     "ename": "NameError",
     "evalue": "name 'pd' is not defined",
     "output_type": "error",
     "traceback": [
      "\u001b[31m---------------------------------------------------------------------------\u001b[39m",
      "\u001b[31mNameError\u001b[39m                                 Traceback (most recent call last)",
      "\u001b[36mCell\u001b[39m\u001b[36m \u001b[39m\u001b[32mIn[3]\u001b[39m\u001b[32m, line 7\u001b[39m\n\u001b[32m      1\u001b[39m data = {\n\u001b[32m      2\u001b[39m     \u001b[33m'\u001b[39m\u001b[33mAmsterdam\u001b[39m\u001b[33m'\u001b[39m: [\u001b[32m4.8\u001b[39m,\u001b[32m4.71\u001b[39m,\u001b[32m7.06\u001b[39m,\u001b[32m10.45\u001b[39m,\u001b[32m13.49\u001b[39m,\u001b[32m16.71\u001b[39m,\u001b[32m18.85\u001b[39m,\u001b[32m19.23\u001b[39m,\u001b[32m16.54\u001b[39m,\u001b[32m13.04\u001b[39m,\u001b[32m8.94\u001b[39m,\u001b[32m6.46\u001b[39m],\n\u001b[32m      3\u001b[39m     \u001b[33m'\u001b[39m\u001b[33mBreda\u001b[39m\u001b[33m'\u001b[39m: [\u001b[32m3.8\u001b[39m,\u001b[32m4.5\u001b[39m,\u001b[32m8.22\u001b[39m,\u001b[32m12.92\u001b[39m,\u001b[32m16.14\u001b[39m,\u001b[32m19.73\u001b[39m,\u001b[32m21.72\u001b[39m,\u001b[32m21.33\u001b[39m,\u001b[32m17.51\u001b[39m,\u001b[32m13.06\u001b[39m,\u001b[32m8.25\u001b[39m,\u001b[32m5.21\u001b[39m],\n\u001b[32m      4\u001b[39m     \u001b[33m'\u001b[39m\u001b[33mEindhoven\u001b[39m\u001b[33m'\u001b[39m: [\u001b[32m3.6\u001b[39m,\u001b[32m4.27\u001b[39m,\u001b[32m7.8\u001b[39m,\u001b[32m12.26\u001b[39m,\u001b[32m15.31\u001b[39m,\u001b[32m18.72\u001b[39m,\u001b[32m20.61\u001b[39m,\u001b[32m20.24\u001b[39m,\u001b[32m16.62\u001b[39m,\u001b[32m12.39\u001b[39m,\u001b[32m7.83\u001b[39m,\u001b[32m4.94\u001b[39m]\n\u001b[32m      5\u001b[39m     }\n\u001b[32m----> \u001b[39m\u001b[32m7\u001b[39m df = \u001b[43mpd\u001b[49m.DataFrame(data).T\n\u001b[32m      8\u001b[39m df.columns = [\u001b[33m\"\u001b[39m\u001b[33mJan\u001b[39m\u001b[33m\"\u001b[39m, \u001b[33m\"\u001b[39m\u001b[33mFeb\u001b[39m\u001b[33m\"\u001b[39m, \u001b[33m\"\u001b[39m\u001b[33mMar\u001b[39m\u001b[33m\"\u001b[39m, \u001b[33m\"\u001b[39m\u001b[33mApr\u001b[39m\u001b[33m\"\u001b[39m, \u001b[33m\"\u001b[39m\u001b[33mMay\u001b[39m\u001b[33m\"\u001b[39m, \u001b[33m\"\u001b[39m\u001b[33mJun\u001b[39m\u001b[33m\"\u001b[39m, \u001b[33m\"\u001b[39m\u001b[33mJul\u001b[39m\u001b[33m\"\u001b[39m, \u001b[33m\"\u001b[39m\u001b[33mAug\u001b[39m\u001b[33m\"\u001b[39m, \u001b[33m\"\u001b[39m\u001b[33mSep\u001b[39m\u001b[33m\"\u001b[39m, \u001b[33m\"\u001b[39m\u001b[33mOct\u001b[39m\u001b[33m\"\u001b[39m, \u001b[33m\"\u001b[39m\u001b[33mNov\u001b[39m\u001b[33m\"\u001b[39m, \u001b[33m\"\u001b[39m\u001b[33mDec\u001b[39m\u001b[33m\"\u001b[39m]\n\u001b[32m     10\u001b[39m df\n",
      "\u001b[31mNameError\u001b[39m: name 'pd' is not defined"
     ]
    }
   ],
   "source": [
    "data = {\n",
    "    'Amsterdam': [4.8,4.71,7.06,10.45,13.49,16.71,18.85,19.23,16.54,13.04,8.94,6.46],\n",
    "    'Breda': [3.8,4.5,8.22,12.92,16.14,19.73,21.72,21.33,17.51,13.06,8.25,5.21],\n",
    "    'Eindhoven': [3.6,4.27,7.8,12.26,15.31,18.72,20.61,20.24,16.62,12.39,7.83,4.94]\n",
    "    }\n",
    "\n",
    "df = pd.DataFrame(data).T\n",
    "df.columns = [\"Jan\", \"Feb\", \"Mar\", \"Apr\", \"May\", \"Jun\", \"Jul\", \"Aug\", \"Sep\", \"Oct\", \"Nov\", \"Dec\"]\n",
    "\n",
    "df"
   ]
  },
  {
   "cell_type": "markdown",
   "id": "97ee03a8",
   "metadata": {},
   "source": [
    "obtaining the average yearly temperature of every city is as simple as:"
   ]
  },
  {
   "cell_type": "code",
   "execution_count": 4,
   "id": "f1c38c22",
   "metadata": {},
   "outputs": [
    {
     "ename": "NameError",
     "evalue": "name 'df' is not defined",
     "output_type": "error",
     "traceback": [
      "\u001b[31m---------------------------------------------------------------------------\u001b[39m",
      "\u001b[31mNameError\u001b[39m                                 Traceback (most recent call last)",
      "\u001b[36mCell\u001b[39m\u001b[36m \u001b[39m\u001b[32mIn[4]\u001b[39m\u001b[32m, line 1\u001b[39m\n\u001b[32m----> \u001b[39m\u001b[32m1\u001b[39m city_averages = \u001b[43mdf\u001b[49m.mean(axis=\u001b[32m1\u001b[39m)\n\u001b[32m      2\u001b[39m city_averages\n",
      "\u001b[31mNameError\u001b[39m: name 'df' is not defined"
     ]
    }
   ],
   "source": [
    "city_averages = df.mean(axis=1)\n",
    "city_averages"
   ]
  },
  {
   "cell_type": "markdown",
   "id": "51ca61b8",
   "metadata": {},
   "source": [
    "obtaining the average temperature of every month is as simple as:"
   ]
  },
  {
   "cell_type": "code",
   "execution_count": 5,
   "id": "45f430d5",
   "metadata": {},
   "outputs": [
    {
     "ename": "NameError",
     "evalue": "name 'df' is not defined",
     "output_type": "error",
     "traceback": [
      "\u001b[31m---------------------------------------------------------------------------\u001b[39m",
      "\u001b[31mNameError\u001b[39m                                 Traceback (most recent call last)",
      "\u001b[36mCell\u001b[39m\u001b[36m \u001b[39m\u001b[32mIn[5]\u001b[39m\u001b[32m, line 1\u001b[39m\n\u001b[32m----> \u001b[39m\u001b[32m1\u001b[39m monthly_averages = \u001b[43mdf\u001b[49m.mean(axis=\u001b[32m0\u001b[39m)\n\u001b[32m      2\u001b[39m monthly_averages\n",
      "\u001b[31mNameError\u001b[39m: name 'df' is not defined"
     ]
    }
   ],
   "source": [
    "monthly_averages = df.mean(axis=0)\n",
    "monthly_averages"
   ]
  },
  {
   "cell_type": "code",
   "execution_count": 6,
   "id": "d2889573",
   "metadata": {},
   "outputs": [
    {
     "ename": "NameError",
     "evalue": "name 'city_averages' is not defined",
     "output_type": "error",
     "traceback": [
      "\u001b[31m---------------------------------------------------------------------------\u001b[39m",
      "\u001b[31mNameError\u001b[39m                                 Traceback (most recent call last)",
      "\u001b[36mCell\u001b[39m\u001b[36m \u001b[39m\u001b[32mIn[6]\u001b[39m\u001b[32m, line 2\u001b[39m\n\u001b[32m      1\u001b[39m \u001b[38;5;66;03m# coldest city?\u001b[39;00m\n\u001b[32m----> \u001b[39m\u001b[32m2\u001b[39m \u001b[43mcity_averages\u001b[49m.idxmin()\n",
      "\u001b[31mNameError\u001b[39m: name 'city_averages' is not defined"
     ]
    }
   ],
   "source": [
    "# coldest city?\n",
    "city_averages.idxmin()"
   ]
  },
  {
   "cell_type": "code",
   "execution_count": 7,
   "id": "1e524c9b",
   "metadata": {},
   "outputs": [
    {
     "ename": "NameError",
     "evalue": "name 'monthly_averages' is not defined",
     "output_type": "error",
     "traceback": [
      "\u001b[31m---------------------------------------------------------------------------\u001b[39m",
      "\u001b[31mNameError\u001b[39m                                 Traceback (most recent call last)",
      "\u001b[36mCell\u001b[39m\u001b[36m \u001b[39m\u001b[32mIn[7]\u001b[39m\u001b[32m, line 2\u001b[39m\n\u001b[32m      1\u001b[39m \u001b[38;5;66;03m# coldest month?\u001b[39;00m\n\u001b[32m----> \u001b[39m\u001b[32m2\u001b[39m \u001b[43mmonthly_averages\u001b[49m.idxmin()\n",
      "\u001b[31mNameError\u001b[39m: name 'monthly_averages' is not defined"
     ]
    }
   ],
   "source": [
    "# coldest month?\n",
    "monthly_averages.idxmin()"
   ]
  },
  {
   "cell_type": "markdown",
   "id": "99f2d190",
   "metadata": {},
   "source": [
    "and now, let's plot the data"
   ]
  },
  {
   "cell_type": "code",
   "execution_count": 8,
   "id": "dbcac06c",
   "metadata": {},
   "outputs": [
    {
     "ename": "NameError",
     "evalue": "name 'plt' is not defined",
     "output_type": "error",
     "traceback": [
      "\u001b[31m---------------------------------------------------------------------------\u001b[39m",
      "\u001b[31mNameError\u001b[39m                                 Traceback (most recent call last)",
      "\u001b[36mCell\u001b[39m\u001b[36m \u001b[39m\u001b[32mIn[8]\u001b[39m\u001b[32m, line 1\u001b[39m\n\u001b[32m----> \u001b[39m\u001b[32m1\u001b[39m \u001b[43mplt\u001b[49m.plot(df.loc[\u001b[33m'\u001b[39m\u001b[33mAmsterdam\u001b[39m\u001b[33m'\u001b[39m])\n\u001b[32m      2\u001b[39m plt.plot(df.loc[\u001b[33m'\u001b[39m\u001b[33mBreda\u001b[39m\u001b[33m'\u001b[39m])\n\u001b[32m      3\u001b[39m plt.plot(df.loc[\u001b[33m'\u001b[39m\u001b[33mEindhoven\u001b[39m\u001b[33m'\u001b[39m])\n",
      "\u001b[31mNameError\u001b[39m: name 'plt' is not defined"
     ]
    }
   ],
   "source": [
    "plt.plot(df.loc['Amsterdam'])\n",
    "plt.plot(df.loc['Breda'])\n",
    "plt.plot(df.loc['Eindhoven'])"
   ]
  },
  {
   "cell_type": "markdown",
   "id": "21efb13b",
   "metadata": {},
   "source": [
    "let's make it a bit more lovely:"
   ]
  },
  {
   "cell_type": "code",
   "execution_count": 9,
   "id": "3cb49391",
   "metadata": {},
   "outputs": [
    {
     "ename": "NameError",
     "evalue": "name 'plt' is not defined",
     "output_type": "error",
     "traceback": [
      "\u001b[31m---------------------------------------------------------------------------\u001b[39m",
      "\u001b[31mNameError\u001b[39m                                 Traceback (most recent call last)",
      "\u001b[36mCell\u001b[39m\u001b[36m \u001b[39m\u001b[32mIn[9]\u001b[39m\u001b[32m, line 1\u001b[39m\n\u001b[32m----> \u001b[39m\u001b[32m1\u001b[39m \u001b[43mplt\u001b[49m.figure(dpi=\u001b[32m200\u001b[39m) \u001b[38;5;66;03m# increase resolution\u001b[39;00m\n\u001b[32m      2\u001b[39m plt.plot(df.loc[\u001b[33m'\u001b[39m\u001b[33mAmsterdam\u001b[39m\u001b[33m'\u001b[39m], label=\u001b[33m'\u001b[39m\u001b[33mAmsterdam\u001b[39m\u001b[33m'\u001b[39m) \u001b[38;5;66;03m# add labels for the legend\u001b[39;00m\n\u001b[32m      3\u001b[39m plt.plot(df.loc[\u001b[33m'\u001b[39m\u001b[33mBreda\u001b[39m\u001b[33m'\u001b[39m], label=\u001b[33m'\u001b[39m\u001b[33mBreda\u001b[39m\u001b[33m'\u001b[39m)\n",
      "\u001b[31mNameError\u001b[39m: name 'plt' is not defined"
     ]
    }
   ],
   "source": [
    "plt.figure(dpi=200) # increase resolution\n",
    "plt.plot(df.loc['Amsterdam'], label='Amsterdam') # add labels for the legend\n",
    "plt.plot(df.loc['Breda'], label='Breda')\n",
    "plt.plot(df.loc['Eindhoven'], label='Eindhoven')\n",
    "plt.legend() # plot the legend\n",
    "plt.ylabel(\"Temperature (C)\") # add axis labels\n",
    "plt.xlabel(\"Month\")"
   ]
  },
  {
   "cell_type": "markdown",
   "id": "e9707c92",
   "metadata": {},
   "source": [
    "Now, let's replicate `10-data-analysis.ipynb`"
   ]
  },
  {
   "cell_type": "code",
   "execution_count": 10,
   "id": "ce0a25e9",
   "metadata": {},
   "outputs": [
    {
     "ename": "NameError",
     "evalue": "name 'pd' is not defined",
     "output_type": "error",
     "traceback": [
      "\u001b[31m---------------------------------------------------------------------------\u001b[39m",
      "\u001b[31mNameError\u001b[39m                                 Traceback (most recent call last)",
      "\u001b[36mCell\u001b[39m\u001b[36m \u001b[39m\u001b[32mIn[10]\u001b[39m\u001b[32m, line 1\u001b[39m\n\u001b[32m----> \u001b[39m\u001b[32m1\u001b[39m df = \u001b[43mpd\u001b[49m.read_csv(\u001b[33m'\u001b[39m\u001b[33mdata.csv\u001b[39m\u001b[33m'\u001b[39m, sep=\u001b[33m\"\u001b[39m\u001b[33m;\u001b[39m\u001b[33m\"\u001b[39m)\n\u001b[32m      2\u001b[39m df\n",
      "\u001b[31mNameError\u001b[39m: name 'pd' is not defined"
     ]
    }
   ],
   "source": [
    "df = pd.read_csv('data.csv', sep=\";\")\n",
    "df"
   ]
  },
  {
   "cell_type": "code",
   "execution_count": 11,
   "id": "3298c279",
   "metadata": {},
   "outputs": [
    {
     "ename": "NameError",
     "evalue": "name 'df' is not defined",
     "output_type": "error",
     "traceback": [
      "\u001b[31m---------------------------------------------------------------------------\u001b[39m",
      "\u001b[31mNameError\u001b[39m                                 Traceback (most recent call last)",
      "\u001b[36mCell\u001b[39m\u001b[36m \u001b[39m\u001b[32mIn[11]\u001b[39m\u001b[32m, line 1\u001b[39m\n\u001b[32m----> \u001b[39m\u001b[32m1\u001b[39m df[\u001b[33m'\u001b[39m\u001b[33mvalue\u001b[39m\u001b[33m'\u001b[39m] = \u001b[43mdf\u001b[49m[\u001b[33m'\u001b[39m\u001b[33mvalue\u001b[39m\u001b[33m'\u001b[39m].str.replace(\u001b[33m\"\u001b[39m\u001b[33m>\u001b[39m\u001b[33m\"\u001b[39m, \u001b[33m\"\u001b[39m\u001b[33m\"\u001b[39m)\n\u001b[32m      2\u001b[39m df[\u001b[33m'\u001b[39m\u001b[33mvalue\u001b[39m\u001b[33m'\u001b[39m] = df[\u001b[33m'\u001b[39m\u001b[33mvalue\u001b[39m\u001b[33m'\u001b[39m].str.replace(\u001b[33m\"\u001b[39m\u001b[33m<\u001b[39m\u001b[33m\"\u001b[39m, \u001b[33m\"\u001b[39m\u001b[33m\"\u001b[39m)\n\u001b[32m      3\u001b[39m df[\u001b[33m'\u001b[39m\u001b[33mvalue\u001b[39m\u001b[33m'\u001b[39m] = df[\u001b[33m'\u001b[39m\u001b[33mvalue\u001b[39m\u001b[33m'\u001b[39m].astype(\u001b[33m'\u001b[39m\u001b[33mint\u001b[39m\u001b[33m'\u001b[39m)\n",
      "\u001b[31mNameError\u001b[39m: name 'df' is not defined"
     ]
    }
   ],
   "source": [
    "df['value'] = df['value'].str.replace(\">\", \"\")\n",
    "df['value'] = df['value'].str.replace(\"<\", \"\")\n",
    "df['value'] = df['value'].astype('int')\n",
    "df"
   ]
  },
  {
   "cell_type": "code",
   "execution_count": 12,
   "id": "18b9ec2c",
   "metadata": {},
   "outputs": [
    {
     "ename": "NameError",
     "evalue": "name 'df' is not defined",
     "output_type": "error",
     "traceback": [
      "\u001b[31m---------------------------------------------------------------------------\u001b[39m",
      "\u001b[31mNameError\u001b[39m                                 Traceback (most recent call last)",
      "\u001b[36mCell\u001b[39m\u001b[36m \u001b[39m\u001b[32mIn[12]\u001b[39m\u001b[32m, line 1\u001b[39m\n\u001b[32m----> \u001b[39m\u001b[32m1\u001b[39m \u001b[43mdf\u001b[49m[\u001b[33m'\u001b[39m\u001b[33mvalue\u001b[39m\u001b[33m'\u001b[39m].mean()\n",
      "\u001b[31mNameError\u001b[39m: name 'df' is not defined"
     ]
    }
   ],
   "source": [
    "df['value'].mean()"
   ]
  },
  {
   "cell_type": "markdown",
   "id": "31cce027",
   "metadata": {},
   "source": [
    "And let's also do the final exercise:"
   ]
  },
  {
   "cell_type": "markdown",
   "id": "81ff2f0d",
   "metadata": {},
   "source": [
    "**Exercise 10.9**\n",
    "\n",
    "Find the geographical areas with proportion of population with primary reliance on clean fuels and technologies for cooking (%) less than or equal to 5 %.\n",
    "\n",
    "Expected result\n",
    "\n",
    "`['Rwanda',\n",
    " 'Malawi',\n",
    " 'Nigeria',\n",
    " 'Guinea',\n",
    " 'Niger',\n",
    " 'Myanmar',\n",
    " 'Sierra Leone',\n",
    " 'South Sudan',\n",
    " 'Madagascar',\n",
    " 'Chad']`"
   ]
  },
  {
   "cell_type": "code",
   "execution_count": null,
   "id": "ee0854e0",
   "metadata": {},
   "outputs": [],
   "source": [
    "df[df['value'] <= 5]"
   ]
  },
  {
   "cell_type": "markdown",
   "id": "25d83aa6",
   "metadata": {},
   "source": [
    "compare these to the functions you wrote in notebooks 7 and 10.\n",
    "\n",
    "Hopefully this gives you a glimpse of how powerful these libraries can be compared to pure Python, and we haven’t even scratched the surface yet! Now let's take a step back and follow a short tutorial on each."
   ]
  },
  {
   "cell_type": "markdown",
   "id": "b42fa552",
   "metadata": {},
   "source": [
    "## 11.3 NumPy tutorial"
   ]
  },
  {
   "cell_type": "markdown",
   "id": "4e6d05b4",
   "metadata": {},
   "source": [
    "The array (`numpy.ndarray`) is the central data structure of the NumPy library."
   ]
  },
  {
   "cell_type": "code",
   "execution_count": 13,
   "id": "4d1b4d8a",
   "metadata": {},
   "outputs": [
    {
     "ename": "NameError",
     "evalue": "name 'np' is not defined",
     "output_type": "error",
     "traceback": [
      "\u001b[31m---------------------------------------------------------------------------\u001b[39m",
      "\u001b[31mNameError\u001b[39m                                 Traceback (most recent call last)",
      "\u001b[36mCell\u001b[39m\u001b[36m \u001b[39m\u001b[32mIn[13]\u001b[39m\u001b[32m, line 1\u001b[39m\n\u001b[32m----> \u001b[39m\u001b[32m1\u001b[39m arr = \u001b[43mnp\u001b[49m.array([\u001b[32m1\u001b[39m, \u001b[32m2\u001b[39m, \u001b[32m3\u001b[39m])\n\u001b[32m      2\u001b[39m arr\n",
      "\u001b[31mNameError\u001b[39m: name 'np' is not defined"
     ]
    }
   ],
   "source": [
    "arr = np.array([1, 2, 3])\n",
    "arr"
   ]
  },
  {
   "cell_type": "code",
   "execution_count": 14,
   "id": "eb31000a",
   "metadata": {},
   "outputs": [
    {
     "ename": "NameError",
     "evalue": "name 'arr' is not defined",
     "output_type": "error",
     "traceback": [
      "\u001b[31m---------------------------------------------------------------------------\u001b[39m",
      "\u001b[31mNameError\u001b[39m                                 Traceback (most recent call last)",
      "\u001b[36mCell\u001b[39m\u001b[36m \u001b[39m\u001b[32mIn[14]\u001b[39m\u001b[32m, line 1\u001b[39m\n\u001b[32m----> \u001b[39m\u001b[32m1\u001b[39m \u001b[38;5;28mtype\u001b[39m(\u001b[43marr\u001b[49m)\n",
      "\u001b[31mNameError\u001b[39m: name 'arr' is not defined"
     ]
    }
   ],
   "source": [
    "type(arr)"
   ]
  },
  {
   "cell_type": "markdown",
   "id": "a90460de",
   "metadata": {},
   "source": [
    "NumPy gives you an enormous range of fast and efficient ways of creating arrays and manipulating numerical data inside them. While a Python list can contain different data types within a single list, all of the elements in a NumPy array should be homogeneous. The mathematical operations that are meant to be performed on arrays would be extremely inefficient if the arrays weren’t homogeneous.\n",
    "\n",
    "Why use NumPy?\n",
    "\n",
    "NumPy arrays are faster and more compact than Python lists. An array consumes less memory and is convenient to use. NumPy uses much less memory to store data and it provides a mechanism of specifying the data types. This allows the code to be optimized even further."
   ]
  },
  {
   "cell_type": "markdown",
   "id": "32e6cb85",
   "metadata": {},
   "source": [
    "### 11.3.1 Array basics"
   ]
  },
  {
   "cell_type": "markdown",
   "id": "76f7a296",
   "metadata": {},
   "source": [
    "**Exercise 11.1**\n",
    "\n",
    "Create numpy arrays with the following types `int`, `bool`, `str`, `float`"
   ]
  },
  {
   "cell_type": "code",
   "execution_count": 17,
   "id": "4c16ea23",
   "metadata": {},
   "outputs": [],
   "source": [
    "import numpy as np\n",
    "int_array = np.array([1, 2, 3, 4, 5])"
   ]
  },
  {
   "cell_type": "markdown",
   "id": "b5fc9073",
   "metadata": {},
   "source": [
    "**Exercise 11.2**\n",
    "\n",
    "All of the elements in a NumPy array should be homogeneous, try creating a heterogeneous array and see what happens. Did you get an error?"
   ]
  },
  {
   "cell_type": "code",
   "execution_count": 18,
   "id": "9fa587a5",
   "metadata": {},
   "outputs": [
    {
     "name": "stdout",
     "output_type": "stream",
     "text": [
      "['1' '2.5' 'hello' 'True']\n",
      "<U32\n"
     ]
    }
   ],
   "source": [
    "import numpy as np\n",
    "\n",
    "arr = np.array([1, 2.5, 'hello', True])\n",
    "print(arr)\n",
    "print(arr.dtype)"
   ]
  },
  {
   "cell_type": "markdown",
   "id": "0bd1d1ae",
   "metadata": {},
   "source": [
    "Let's go back to our initial array:"
   ]
  },
  {
   "cell_type": "code",
   "execution_count": 19,
   "id": "ee8bdd4b",
   "metadata": {},
   "outputs": [
    {
     "data": {
      "text/plain": [
       "array([1, 2, 3])"
      ]
     },
     "execution_count": 19,
     "metadata": {},
     "output_type": "execute_result"
    }
   ],
   "source": [
    "arr = np.array([1, 2, 3])\n",
    "arr"
   ]
  },
  {
   "cell_type": "markdown",
   "id": "697abf7c",
   "metadata": {},
   "source": [
    "Many operations you use on Python lists can also be applied to NumPy arrays"
   ]
  },
  {
   "cell_type": "code",
   "execution_count": 20,
   "id": "f082fed6",
   "metadata": {},
   "outputs": [
    {
     "data": {
      "text/plain": [
       "np.int64(1)"
      ]
     },
     "execution_count": 20,
     "metadata": {},
     "output_type": "execute_result"
    }
   ],
   "source": [
    "arr[0] # index"
   ]
  },
  {
   "cell_type": "code",
   "execution_count": 21,
   "id": "6f29b8b6",
   "metadata": {},
   "outputs": [
    {
     "data": {
      "text/plain": [
       "array([1, 2])"
      ]
     },
     "execution_count": 21,
     "metadata": {},
     "output_type": "execute_result"
    }
   ],
   "source": [
    "arr[0:2] # slice"
   ]
  },
  {
   "cell_type": "code",
   "execution_count": null,
   "id": "ea302611",
   "metadata": {},
   "outputs": [],
   "source": [
    "len(arr) # get length"
   ]
  },
  {
   "cell_type": "markdown",
   "id": "71912c1f",
   "metadata": {},
   "source": [
    "an array can be 1D, 2D, 3D and so on"
   ]
  },
  {
   "cell_type": "code",
   "execution_count": 22,
   "id": "7e50fcd9",
   "metadata": {},
   "outputs": [
    {
     "data": {
      "text/plain": [
       "array([[1, 2, 3],\n",
       "       [4, 5, 6]])"
      ]
     },
     "execution_count": 22,
     "metadata": {},
     "output_type": "execute_result"
    }
   ],
   "source": [
    "# a 2D array can be created with a nested list\n",
    "arr = np.array([[1, 2, 3], [4, 5, 6]])\n",
    "arr"
   ]
  },
  {
   "cell_type": "markdown",
   "id": "2d867cb4",
   "metadata": {},
   "source": [
    "The rank of the array is the number of dimensions. The shape of the array is a tuple of integers giving the size of the array along each dimension."
   ]
  },
  {
   "cell_type": "code",
   "execution_count": 23,
   "id": "472cca28",
   "metadata": {},
   "outputs": [
    {
     "data": {
      "text/plain": [
       "(2, 3)"
      ]
     },
     "execution_count": 23,
     "metadata": {},
     "output_type": "execute_result"
    }
   ],
   "source": [
    "# 2 rows, 3 columns\n",
    "arr.shape"
   ]
  },
  {
   "cell_type": "code",
   "execution_count": 24,
   "id": "60cb2a29",
   "metadata": {},
   "outputs": [
    {
     "data": {
      "text/plain": [
       "2"
      ]
     },
     "execution_count": 24,
     "metadata": {},
     "output_type": "execute_result"
    }
   ],
   "source": [
    "# 2 dimensions\n",
    "arr.ndim"
   ]
  },
  {
   "cell_type": "code",
   "execution_count": 25,
   "id": "1dc7f2e4",
   "metadata": {},
   "outputs": [
    {
     "data": {
      "text/plain": [
       "6"
      ]
     },
     "execution_count": 25,
     "metadata": {},
     "output_type": "execute_result"
    }
   ],
   "source": [
    "# 6 elements in the array\n",
    "arr.size"
   ]
  },
  {
   "cell_type": "code",
   "execution_count": 26,
   "id": "42365732",
   "metadata": {},
   "outputs": [
    {
     "data": {
      "text/plain": [
       "dtype('int64')"
      ]
     },
     "execution_count": 26,
     "metadata": {},
     "output_type": "execute_result"
    }
   ],
   "source": [
    "# contains integers\n",
    "arr.dtype"
   ]
  },
  {
   "cell_type": "markdown",
   "id": "86ce8adc",
   "metadata": {},
   "source": [
    "**Exercise 11.3**\n",
    "\n",
    "Create a 2D array with floats and of shape (3, 5), check its attributes `dtype`, `shape`, `size` and `ndim` to verify you did it correctly.\n"
   ]
  },
  {
   "cell_type": "code",
   "execution_count": 27,
   "id": "4214b1f2",
   "metadata": {},
   "outputs": [
    {
     "name": "stdout",
     "output_type": "stream",
     "text": [
      "[[ 1.1  2.2  3.3  4.4  5.5]\n",
      " [ 6.6  7.7  8.8  9.9 10.1]\n",
      " [11.1 12.2 13.3 14.4 15.5]]\n",
      "dtype: float64\n",
      "shape: (3, 5)\n",
      "size: 15\n",
      "ndim: 2\n"
     ]
    }
   ],
   "source": [
    "import numpy as np\n",
    "\n",
    "arr = np.array([[1.1, 2.2, 3.3, 4.4, 5.5],\n",
    "                [6.6, 7.7, 8.8, 9.9, 10.1],\n",
    "                [11.1, 12.2, 13.3, 14.4, 15.5]])\n",
    "\n",
    "print(arr)\n",
    "print(\"dtype:\", arr.dtype)\n",
    "print(\"shape:\", arr.shape)\n",
    "print(\"size:\", arr.size)\n",
    "print(\"ndim:\", arr.ndim)\n"
   ]
  },
  {
   "cell_type": "markdown",
   "id": "1c9b565b",
   "metadata": {},
   "source": [
    "### 11.3.2 Creating arrays"
   ]
  },
  {
   "cell_type": "markdown",
   "id": "52544c13",
   "metadata": {},
   "source": [
    "`np.array()` is not the only way to create arrays"
   ]
  },
  {
   "cell_type": "code",
   "execution_count": 28,
   "id": "07270717",
   "metadata": {},
   "outputs": [
    {
     "data": {
      "text/plain": [
       "array([0., 0., 0., 0., 0.])"
      ]
     },
     "execution_count": 28,
     "metadata": {},
     "output_type": "execute_result"
    }
   ],
   "source": [
    "np.zeros(5)"
   ]
  },
  {
   "cell_type": "code",
   "execution_count": 29,
   "id": "f6ae2d37",
   "metadata": {},
   "outputs": [
    {
     "data": {
      "text/plain": [
       "array([1., 1., 1., 1., 1., 1., 1., 1., 1., 1.])"
      ]
     },
     "execution_count": 29,
     "metadata": {},
     "output_type": "execute_result"
    }
   ],
   "source": [
    "np.ones(10)"
   ]
  },
  {
   "cell_type": "code",
   "execution_count": 30,
   "id": "860d1ca0",
   "metadata": {},
   "outputs": [
    {
     "data": {
      "text/plain": [
       "array([0, 1, 2, 3, 4, 5, 6, 7, 8, 9])"
      ]
     },
     "execution_count": 30,
     "metadata": {},
     "output_type": "execute_result"
    }
   ],
   "source": [
    "np.arange(10)"
   ]
  },
  {
   "cell_type": "code",
   "execution_count": 31,
   "id": "7c0786d9",
   "metadata": {},
   "outputs": [
    {
     "data": {
      "text/plain": [
       "array([0, 2, 4, 6, 8])"
      ]
     },
     "execution_count": 31,
     "metadata": {},
     "output_type": "execute_result"
    }
   ],
   "source": [
    "np.arange(0, 10, 2)"
   ]
  },
  {
   "cell_type": "code",
   "execution_count": 32,
   "id": "a9129ac7",
   "metadata": {},
   "outputs": [
    {
     "data": {
      "text/plain": [
       "array([  0.,  50., 100.])"
      ]
     },
     "execution_count": 32,
     "metadata": {},
     "output_type": "execute_result"
    }
   ],
   "source": [
    "np.linspace(0, 100, 3)"
   ]
  },
  {
   "cell_type": "code",
   "execution_count": 33,
   "id": "42b58d1b",
   "metadata": {},
   "outputs": [
    {
     "data": {
      "text/plain": [
       "array([34, 42, 26,  8, 98, 71, 76, 67, 69, 50], dtype=int32)"
      ]
     },
     "execution_count": 33,
     "metadata": {},
     "output_type": "execute_result"
    }
   ],
   "source": [
    "np.random.randint(0, 100, size=10)"
   ]
  },
  {
   "cell_type": "markdown",
   "id": "a8011b81",
   "metadata": {},
   "source": [
    "you can set `dtype` while creating arrays"
   ]
  },
  {
   "cell_type": "code",
   "execution_count": null,
   "id": "1007ced8",
   "metadata": {},
   "outputs": [],
   "source": [
    "arr = np.array([1, 2, 3])\n",
    "arr.dtype"
   ]
  },
  {
   "cell_type": "code",
   "execution_count": 34,
   "id": "6f59e150",
   "metadata": {},
   "outputs": [
    {
     "data": {
      "text/plain": [
       "dtype('float64')"
      ]
     },
     "execution_count": 34,
     "metadata": {},
     "output_type": "execute_result"
    }
   ],
   "source": [
    "arr = np.array([1, 2, 3], dtype='float')\n",
    "arr.dtype"
   ]
  },
  {
   "cell_type": "code",
   "execution_count": 35,
   "id": "3ad742d0",
   "metadata": {},
   "outputs": [
    {
     "name": "stdout",
     "output_type": "stream",
     "text": [
      "int64\n",
      "float64\n"
     ]
    }
   ],
   "source": [
    "# or change dtype after creating the array\n",
    "arr = np.array([1, 2, 3])\n",
    "print(arr.dtype)\n",
    "arr = arr.astype('float')\n",
    "print(arr.dtype)"
   ]
  },
  {
   "cell_type": "markdown",
   "id": "fd5c9776",
   "metadata": {},
   "source": [
    "**Exercise 11.4**\n",
    "\n",
    "Create a 2D array of size (200, 300)"
   ]
  },
  {
   "cell_type": "code",
   "execution_count": 36,
   "id": "b62081ba",
   "metadata": {},
   "outputs": [
    {
     "name": "stdout",
     "output_type": "stream",
     "text": [
      "(200, 300)\n"
     ]
    }
   ],
   "source": [
    "import numpy as np\n",
    "\n",
    "arr = np.zeros((200, 300))\n",
    "print(arr.shape)\n"
   ]
  },
  {
   "cell_type": "markdown",
   "id": "0440b541",
   "metadata": {},
   "source": [
    "**Exercise 11.5**\n",
    "\n",
    "Create a 3D array"
   ]
  },
  {
   "cell_type": "code",
   "execution_count": 38,
   "id": "a04fc124",
   "metadata": {},
   "outputs": [
    {
     "name": "stdout",
     "output_type": "stream",
     "text": [
      "[[[0.02088364 0.13042408]\n",
      "  [0.13718377 0.67558861]\n",
      "  [0.56585859 0.97117067]\n",
      "  [0.24399685 0.32193907]]\n",
      "\n",
      " [[0.26883562 0.70136383]\n",
      "  [0.87732113 0.90489437]\n",
      "  [0.71586411 0.99850348]\n",
      "  [0.60211534 0.40142268]]\n",
      "\n",
      " [[0.07355542 0.2157464 ]\n",
      "  [0.98851637 0.47662198]\n",
      "  [0.03654219 0.16470604]\n",
      "  [0.89172952 0.57098454]]]\n",
      "shape: (3, 4, 2)\n"
     ]
    }
   ],
   "source": [
    "import numpy as np\n",
    "\n",
    "arr = np.random.rand(3, 4, 2)\n",
    "print(arr)\n",
    "print(\"shape:\", arr.shape)\n"
   ]
  },
  {
   "cell_type": "markdown",
   "id": "8334986d",
   "metadata": {},
   "source": [
    "### 11.3.3 Reshaping arrays"
   ]
  },
  {
   "cell_type": "code",
   "execution_count": null,
   "id": "e6cd8fa6",
   "metadata": {},
   "outputs": [],
   "source": [
    "arr = np.arange(6)\n",
    "arr"
   ]
  },
  {
   "cell_type": "code",
   "execution_count": null,
   "id": "4df67beb",
   "metadata": {},
   "outputs": [],
   "source": [
    "arr.reshape(2, 3)"
   ]
  },
  {
   "cell_type": "code",
   "execution_count": null,
   "id": "b551525e",
   "metadata": {},
   "outputs": [],
   "source": [
    "arr.reshape(3, 2)"
   ]
  },
  {
   "cell_type": "markdown",
   "id": "eb0633f9",
   "metadata": {},
   "source": [
    "**Exercise 11.6**\n",
    "\n",
    "Create an array of size (3, 4) and reshape it to (6, 2)"
   ]
  },
  {
   "cell_type": "code",
   "execution_count": 40,
   "id": "966576b6",
   "metadata": {},
   "outputs": [
    {
     "name": "stdout",
     "output_type": "stream",
     "text": [
      "[[ 0  1  2  3]\n",
      " [ 4  5  6  7]\n",
      " [ 8  9 10 11]]\n",
      "[[ 0  1]\n",
      " [ 2  3]\n",
      " [ 4  5]\n",
      " [ 6  7]\n",
      " [ 8  9]\n",
      " [10 11]]\n"
     ]
    }
   ],
   "source": [
    "import numpy as np\n",
    "\n",
    "arr = np.arange(12).reshape(3, 4)\n",
    "print(arr)\n",
    "\n",
    "reshaped = arr.reshape(6, 2)\n",
    "print(reshaped)\n"
   ]
  },
  {
   "cell_type": "markdown",
   "id": "4f68edfe",
   "metadata": {},
   "source": [
    "**Exercise 11.7**\n",
    "\n",
    "Create an array of size (3, 4) and reshape it to (5, 5). You will get an error. Why?"
   ]
  },
  {
   "cell_type": "code",
   "execution_count": 41,
   "id": "d268dbe2",
   "metadata": {},
   "outputs": [
    {
     "ename": "ValueError",
     "evalue": "cannot reshape array of size 12 into shape (5,5)",
     "output_type": "error",
     "traceback": [
      "\u001b[31m---------------------------------------------------------------------------\u001b[39m",
      "\u001b[31mValueError\u001b[39m                                Traceback (most recent call last)",
      "\u001b[36mCell\u001b[39m\u001b[36m \u001b[39m\u001b[32mIn[41]\u001b[39m\u001b[32m, line 4\u001b[39m\n\u001b[32m      1\u001b[39m \u001b[38;5;28;01mimport\u001b[39;00m\u001b[38;5;250m \u001b[39m\u001b[34;01mnumpy\u001b[39;00m\u001b[38;5;250m \u001b[39m\u001b[38;5;28;01mas\u001b[39;00m\u001b[38;5;250m \u001b[39m\u001b[34;01mnp\u001b[39;00m\n\u001b[32m      3\u001b[39m arr = np.arange(\u001b[32m12\u001b[39m).reshape(\u001b[32m3\u001b[39m, \u001b[32m4\u001b[39m)\n\u001b[32m----> \u001b[39m\u001b[32m4\u001b[39m arr = \u001b[43marr\u001b[49m\u001b[43m.\u001b[49m\u001b[43mreshape\u001b[49m\u001b[43m(\u001b[49m\u001b[32;43m5\u001b[39;49m\u001b[43m,\u001b[49m\u001b[43m \u001b[49m\u001b[32;43m5\u001b[39;49m\u001b[43m)\u001b[49m\n",
      "\u001b[31mValueError\u001b[39m: cannot reshape array of size 12 into shape (5,5)"
     ]
    }
   ],
   "source": [
    "import numpy as np\n",
    "\n",
    "arr = np.arange(12).reshape(3, 4)\n",
    "arr = arr.reshape(5, 5)\n"
   ]
  },
  {
   "cell_type": "markdown",
   "id": "f4ecee58",
   "metadata": {},
   "source": [
    "this means you need to make sure the total size remains the same"
   ]
  },
  {
   "cell_type": "markdown",
   "id": "a50f58e3",
   "metadata": {},
   "source": [
    "### 11.3.4 Understanding the shape of a 1D array"
   ]
  },
  {
   "cell_type": "code",
   "execution_count": null,
   "id": "b7fde606",
   "metadata": {},
   "outputs": [],
   "source": [
    "arr = np.arange(6)\n",
    "arr"
   ]
  },
  {
   "cell_type": "code",
   "execution_count": null,
   "id": "be1756ef",
   "metadata": {},
   "outputs": [],
   "source": [
    "arr.shape"
   ]
  },
  {
   "cell_type": "markdown",
   "id": "62a20ac7",
   "metadata": {},
   "source": [
    "does this mean we have `one column and six rows` or a `one row and six columns`?\n",
    "\n",
    "neither `one column and six rows` nor `one row and six columns`, It’s a 1D array with only one axis, so rows and columns don’t apply."
   ]
  },
  {
   "cell_type": "markdown",
   "id": "f0d8bf36",
   "metadata": {},
   "source": [
    "we can create (1, 6) and (6, 1) shaped arrays as follows:"
   ]
  },
  {
   "cell_type": "code",
   "execution_count": null,
   "id": "c432533d",
   "metadata": {},
   "outputs": [],
   "source": [
    "arr_2D_row = np.array([[0, 1, 2, 3, 4, 5]])\n",
    "arr_2D_row.shape"
   ]
  },
  {
   "cell_type": "code",
   "execution_count": null,
   "id": "be861f97",
   "metadata": {},
   "outputs": [],
   "source": [
    "arr_2D_col = np.array([[0], [1], [2], [3], [4], [5]])\n",
    "arr_2D_col.shape"
   ]
  },
  {
   "cell_type": "code",
   "execution_count": null,
   "id": "6473d957",
   "metadata": {},
   "outputs": [],
   "source": [
    "arr_2D_row"
   ]
  },
  {
   "cell_type": "code",
   "execution_count": null,
   "id": "eaebe2ec",
   "metadata": {},
   "outputs": [],
   "source": [
    "arr_2D_col"
   ]
  },
  {
   "cell_type": "markdown",
   "id": "18e4e2bd",
   "metadata": {},
   "source": [
    "`arr`, `arr_2D_row`, `arr_2D_col` are all related but not the same.\n",
    "\n",
    "You can create one from the other by reshaping"
   ]
  },
  {
   "cell_type": "code",
   "execution_count": null,
   "id": "ebbe891b",
   "metadata": {},
   "outputs": [],
   "source": [
    "arr = np.arange(6)\n",
    "print(arr.shape)\n",
    "arr = arr.reshape(1, 6)\n",
    "print(arr.shape)\n",
    "arr = arr.reshape(6, 1)\n",
    "print(arr.shape)"
   ]
  },
  {
   "cell_type": "markdown",
   "id": "4acf968f",
   "metadata": {},
   "source": [
    "### 11.3.5 Indexing, slicing, filtering arrays"
   ]
  },
  {
   "cell_type": "markdown",
   "id": "af1c3b45",
   "metadata": {},
   "source": [
    "Let's start with a 2D array"
   ]
  },
  {
   "cell_type": "code",
   "execution_count": null,
   "id": "16ff8e76",
   "metadata": {},
   "outputs": [],
   "source": [
    "arr = np.array([[1 , 2, 3, 4], [5, 6, 7, 8], [9, 10, 11, 12]])\n",
    "arr"
   ]
  },
  {
   "cell_type": "markdown",
   "id": "5301dc37",
   "metadata": {},
   "source": [
    "You can get any single item by row and column indices. For example the item in the first row and third column is `3`. You can obtain that item by:"
   ]
  },
  {
   "cell_type": "code",
   "execution_count": null,
   "id": "f99d5187",
   "metadata": {},
   "outputs": [],
   "source": [
    "arr[0, 2]"
   ]
  },
  {
   "cell_type": "markdown",
   "id": "d5e229e5",
   "metadata": {},
   "source": [
    "Let's say you would like to get the first two items in the second row, this is how you can do it:"
   ]
  },
  {
   "cell_type": "code",
   "execution_count": null,
   "id": "16ad52ab",
   "metadata": {},
   "outputs": [],
   "source": [
    "arr[1, 0:2]"
   ]
  },
  {
   "cell_type": "code",
   "execution_count": null,
   "id": "540056de",
   "metadata": {},
   "outputs": [],
   "source": [
    "# first row\n",
    "arr[0, :]"
   ]
  },
  {
   "cell_type": "code",
   "execution_count": null,
   "id": "9057d6d4",
   "metadata": {},
   "outputs": [],
   "source": [
    "# first column\n",
    "arr[:, 0]"
   ]
  },
  {
   "cell_type": "markdown",
   "id": "f577b02b",
   "metadata": {},
   "source": [
    "**Exercise 11.8**\n",
    "\n",
    "For the array below, return the following\n",
    "\n",
    "- Last row (i.e. [9, 10, 11, 12])\n",
    "- Second column (i.e. [2, 6, 10])\n",
    "- Last 3 elements of the last row (i.e. [10, 11, 12])"
   ]
  },
  {
   "cell_type": "code",
   "execution_count": null,
   "id": "bbd483b6",
   "metadata": {},
   "outputs": [],
   "source": [
    "arr = np.array([[1 , 2, 3, 4], [5, 6, 7, 8], [9, 10, 11, 12]])\n",
    "arr"
   ]
  },
  {
   "cell_type": "code",
   "execution_count": null,
   "id": "5f94e6d0",
   "metadata": {},
   "outputs": [],
   "source": [
    "# YOUR CODE HERE"
   ]
  },
  {
   "cell_type": "markdown",
   "id": "02a340d8",
   "metadata": {},
   "source": [
    "Now let's look at filtering using our `arr`."
   ]
  },
  {
   "cell_type": "code",
   "execution_count": null,
   "id": "aa142d5c",
   "metadata": {},
   "outputs": [],
   "source": [
    "arr = np.array([[1 , 2, 3, 4], [5, 6, 7, 8], [9, 10, 11, 12]])\n",
    "arr"
   ]
  },
  {
   "cell_type": "markdown",
   "id": "5c6178cc",
   "metadata": {},
   "source": [
    "This is how you can get all the numbers in your array greater than 5:"
   ]
  },
  {
   "cell_type": "code",
   "execution_count": null,
   "id": "6b90a43e",
   "metadata": {},
   "outputs": [],
   "source": [
    "# step one: create a boolean mask\n",
    "arr_mask = arr > 5\n",
    "arr_mask"
   ]
  },
  {
   "cell_type": "code",
   "execution_count": null,
   "id": "c31f4f58",
   "metadata": {},
   "outputs": [],
   "source": [
    "# step two: use the mask for indexing\n",
    "arr[arr_mask]"
   ]
  },
  {
   "cell_type": "markdown",
   "id": "ed1b8d4c",
   "metadata": {},
   "source": [
    "you can combine the steps as follows:"
   ]
  },
  {
   "cell_type": "code",
   "execution_count": null,
   "id": "46377815",
   "metadata": {},
   "outputs": [],
   "source": [
    "arr[arr>5]"
   ]
  },
  {
   "cell_type": "markdown",
   "id": "6db6e2ea",
   "metadata": {},
   "source": [
    "It is essential you understand this operation because <mark>you will use this concept a lot!</mark> So let me repeat:\n",
    "\n",
    "`arr[arr > 5]` uses **Boolean indexing** in NumPy: first, `arr > 5` compares each element of `arr` with 5 and produces a Boolean array of the same shape, with `True` where the element is greater than 5 and `False` otherwise; then, using this Boolean array inside the square brackets tells NumPy to return only the elements where the corresponding Boolean value is `True`, effectively filtering the array based on the condition.\n",
    "\n",
    "You can filter one array based on another array as well."
   ]
  },
  {
   "cell_type": "markdown",
   "id": "514e9038",
   "metadata": {},
   "source": [
    "**Exercise 11.9**\n",
    "\n",
    "Given two arrays below, find the adults. Do it in a single line.\n",
    "\n",
    "Expected output:\n",
    "\n",
    "`array(['Sanne', 'Daan', 'Joris', 'Lotte'])`"
   ]
  },
  {
   "cell_type": "code",
   "execution_count": null,
   "id": "46a17566",
   "metadata": {},
   "outputs": [],
   "source": [
    "# Ages of people in a survey\n",
    "ages = np.array([15, 22, 35, 17, 40, 29])\n",
    "\n",
    "# Names corresponding to those ages\n",
    "names = np.array([\"Bram\", \"Sanne\", \"Daan\", \"Femke\", \"Joris\", \"Lotte\"])"
   ]
  },
  {
   "cell_type": "code",
   "execution_count": null,
   "id": "bb737059",
   "metadata": {},
   "outputs": [],
   "source": [
    "# YOUR CODE HERE"
   ]
  },
  {
   "cell_type": "markdown",
   "id": "4cf0b6f2",
   "metadata": {},
   "source": [
    "### 11.3.6 Array operations"
   ]
  },
  {
   "cell_type": "code",
   "execution_count": null,
   "id": "9f3e3a31",
   "metadata": {},
   "outputs": [],
   "source": [
    "arr_1 = np.array([[1, 2, 3, 4], [5, 6, 7, 8]])\n",
    "arr_1"
   ]
  },
  {
   "cell_type": "code",
   "execution_count": null,
   "id": "40f60a7c",
   "metadata": {},
   "outputs": [],
   "source": [
    "arr_2 = np.array([[9, 10, 11, 12], [13, 14, 15, 16]])\n",
    "arr_2"
   ]
  },
  {
   "cell_type": "code",
   "execution_count": null,
   "id": "55efaa60",
   "metadata": {},
   "outputs": [],
   "source": [
    "# add a number to all elements\n",
    "arr_1 + 1"
   ]
  },
  {
   "cell_type": "code",
   "execution_count": null,
   "id": "745c6f90",
   "metadata": {},
   "outputs": [],
   "source": [
    "# multiply an array by a number\n",
    "arr_1 * -1"
   ]
  },
  {
   "cell_type": "code",
   "execution_count": null,
   "id": "8eac4ee4",
   "metadata": {},
   "outputs": [],
   "source": [
    "# add two arrays together\n",
    "arr_1 + arr_2"
   ]
  },
  {
   "cell_type": "code",
   "execution_count": null,
   "id": "683ad8b0",
   "metadata": {},
   "outputs": [],
   "source": [
    "# mean of an array\n",
    "np.mean(arr_1)"
   ]
  },
  {
   "cell_type": "code",
   "execution_count": null,
   "id": "de881d14",
   "metadata": {},
   "outputs": [],
   "source": [
    "# mean of all columns\n",
    "np.mean(arr_1, axis=0)"
   ]
  },
  {
   "cell_type": "code",
   "execution_count": null,
   "id": "48b9c04b",
   "metadata": {},
   "outputs": [],
   "source": [
    "# mean of all rows\n",
    "np.mean(arr_1, axis=1)"
   ]
  },
  {
   "cell_type": "code",
   "execution_count": null,
   "id": "5147b1da",
   "metadata": {},
   "outputs": [],
   "source": [
    "# find unique values\n",
    "arr = np.array([1, 1, 5, 5, 5])\n",
    "np.unique(arr)"
   ]
  },
  {
   "cell_type": "code",
   "execution_count": null,
   "id": "ea74f97d",
   "metadata": {},
   "outputs": [],
   "source": [
    "# together with the counts\n",
    "unique_values, counts = np.unique(arr, return_counts=True)\n",
    "print(unique_values, counts)"
   ]
  },
  {
   "cell_type": "markdown",
   "id": "730833ef",
   "metadata": {},
   "source": [
    "**Exercise 11.10**\n",
    "\n",
    "Find the sum of each column in `arr_2`\n",
    "\n",
    "Expected output:\n",
    "\n",
    "`array([22, 24, 26, 28])`"
   ]
  },
  {
   "cell_type": "code",
   "execution_count": null,
   "id": "2f7dbbdc",
   "metadata": {},
   "outputs": [],
   "source": [
    "arr_2 = np.array([[9, 10, 11, 12], [13, 14, 15, 16]])\n",
    "arr_2"
   ]
  },
  {
   "cell_type": "code",
   "execution_count": 42,
   "id": "bf1a79bb",
   "metadata": {},
   "outputs": [
    {
     "name": "stdout",
     "output_type": "stream",
     "text": [
      "[22 24 26 28]\n"
     ]
    }
   ],
   "source": [
    "import numpy as np\n",
    "\n",
    "arr_2 = np.array([[1, 2, 3, 4],\n",
    "                  [5, 6, 7, 8],\n",
    "                  [9, 10, 11, 12],\n",
    "                  [7, 6, 5, 4]])\n",
    "\n",
    "column_sums = np.sum(arr_2, axis=0)\n",
    "print(column_sums)\n"
   ]
  },
  {
   "cell_type": "markdown",
   "id": "a37619be",
   "metadata": {},
   "source": [
    "### 11.3.7 Math and NumPy\n"
   ]
  },
  {
   "cell_type": "markdown",
   "id": "bb7d7882",
   "metadata": {},
   "source": [
    "In this block, you are taking the course **[Foundational Mathematics (Y1A2)](https://ai.buas.nl/curriculum/foundational-mathematics.html)**. In the next block, you will take **[Mathematical Foundations for Machine Learning (Y1B2)](https://ai.buas.nl/curriculum/mathematical-foundations-for-machine-learning.html)**.\n",
    "\n",
    "Many of the concepts you have learned, and will learn, can be done directly with **NumPy**. This library allows you to apply mathematical ideas to arrays of numbers efficiently, without writing long loops. Here are some examples:"
   ]
  },
  {
   "cell_type": "markdown",
   "id": "ec641a75",
   "metadata": {},
   "source": [
    "In trigonometry, you might calculate `sin(θ)` or `cos(θ)` for a single angle. With NumPy, you can do this for an entire array of angles at once:"
   ]
  },
  {
   "cell_type": "code",
   "execution_count": null,
   "id": "e83a30ac",
   "metadata": {},
   "outputs": [],
   "source": [
    "angles = np.array([0, np.pi/6, np.pi/2])\n",
    "np.sin(angles)"
   ]
  },
  {
   "cell_type": "markdown",
   "id": "105a8625",
   "metadata": {},
   "source": [
    "Let's say you would like to find $2x^2 + 3x + 1$ for $ x = 5$"
   ]
  },
  {
   "cell_type": "code",
   "execution_count": null,
   "id": "658928ee",
   "metadata": {},
   "outputs": [],
   "source": [
    "coeffs = [2, 3, 1]\n",
    "x = 5\n",
    "np.polyval(coeffs, x)"
   ]
  },
  {
   "cell_type": "markdown",
   "id": "b9ad84b9",
   "metadata": {},
   "source": [
    "you can do this for multiple x values at once"
   ]
  },
  {
   "cell_type": "code",
   "execution_count": null,
   "id": "036c7f50",
   "metadata": {},
   "outputs": [],
   "source": [
    "coeffs = [2, 3, 1]\n",
    "x = np.array([5, 0, -2])\n",
    "np.polyval(coeffs, x)"
   ]
  },
  {
   "cell_type": "markdown",
   "id": "b10e22ed",
   "metadata": {},
   "source": [
    "You will learn about the dot product, the fundamental operation of linear algebra as well as neural networks:"
   ]
  },
  {
   "cell_type": "markdown",
   "id": "b821b647",
   "metadata": {},
   "source": [
    "```math\n",
    "\\begin{bmatrix}1 & 2 \\\\ 3 & 4\\end{bmatrix}\n",
    "\\cdot\n",
    "\\begin{bmatrix}5 \\\\ 6\\end{bmatrix}\n",
    "=\n",
    "\\begin{bmatrix}1×5 + 2×6 \\\\ 3×5 + 4×6\\end{bmatrix}\n",
    "=\n",
    "\\begin{bmatrix}17 \\\\ 39\\end{bmatrix}"
   ]
  },
  {
   "cell_type": "markdown",
   "id": "c2d46eb7",
   "metadata": {},
   "source": [
    "this can be done with NumPy as follows:"
   ]
  },
  {
   "cell_type": "code",
   "execution_count": null,
   "id": "6ebdddd0",
   "metadata": {},
   "outputs": [],
   "source": [
    "A = np.array([[1, 2], [3, 4]])\n",
    "b = np.array([5, 6])\n",
    "\n",
    "np.dot(A, b)"
   ]
  },
  {
   "cell_type": "markdown",
   "id": "cbb32531",
   "metadata": {},
   "source": [
    "The focus of this tutorial is NumPy, not teaching mathematics. However, from now on, when you learn new math concepts, also practice them in NumPy, this will both strengthen your understanding of the math and help you learn how to perform these operations in NumPy, which you will use frequently.\n",
    "\n",
    "Take a look at the functions available:\n",
    "\n",
    "https://numpy.org/doc/stable/reference/routines.math.html\n",
    "\n",
    "https://numpy.org/doc/stable/reference/routines.linalg.html\n"
   ]
  },
  {
   "cell_type": "markdown",
   "id": "4e8464ca",
   "metadata": {},
   "source": [
    "**Exercise 11.11**\n",
    "\n",
    "Find the base 10 logarithm of the numbers given below.\n",
    "\n",
    "Expected answer:\n",
    "\n",
    "`array([1.     , 2.     , 2.69897, 3.     ])`"
   ]
  },
  {
   "cell_type": "code",
   "execution_count": 43,
   "id": "77d1bd34",
   "metadata": {},
   "outputs": [
    {
     "name": "stdout",
     "output_type": "stream",
     "text": [
      "[1.      2.      2.69897 3.     ]\n"
     ]
    }
   ],
   "source": [
    "import numpy as np\n",
    "\n",
    "arr = np.array([10, 100, 500, 1000])\n",
    "log_values = np.log10(arr)\n",
    "print(log_values)\n"
   ]
  },
  {
   "cell_type": "markdown",
   "id": "24981ae3",
   "metadata": {},
   "source": [
    "### 11.3.8 Vectorization\n",
    "\n",
    "Vectorization in NumPy means performing operations on entire arrays (vectors, matrices) at once, instead of using loops to process one element at a time. NumPy does this by running optimized code written in C under the hood, which is much faster than pure Python loops. <mark>Learning and applying this concept can be the difference between your code running in 1 hour versus 1 minute.</mark>"
   ]
  },
  {
   "cell_type": "markdown",
   "id": "33a8d883",
   "metadata": {},
   "source": [
    "Let's calculate the Body Mass Index (BMI) of 10 million people to demonstrate the concept. BMI is calculated as\n",
    "\n",
    "$$\n",
    "\\text{BMI} = \\frac{\\text{weight (kg)}}{\\left[\\text{height (m)}\\right]^2}\n",
    "$$"
   ]
  },
  {
   "cell_type": "code",
   "execution_count": null,
   "id": "c7aa1ff1",
   "metadata": {},
   "outputs": [],
   "source": [
    "# Generate data\n",
    "import random\n",
    "n = 10000000\n",
    "heights_m = [random.uniform(1.5, 2.0) for _ in range(n)]\n",
    "weights_kg = [random.uniform(50, 100) for _ in range(n)]"
   ]
  },
  {
   "cell_type": "code",
   "execution_count": null,
   "id": "c405613d",
   "metadata": {},
   "outputs": [],
   "source": [
    "bmis = []\n",
    "for i in range(n):\n",
    "  bmi = weights_kg[i] / (heights_m[i] ** 2)\n",
    "  bmis.append(bmi)"
   ]
  },
  {
   "cell_type": "markdown",
   "id": "7f39765e",
   "metadata": {},
   "source": [
    "let's do the same with numpy"
   ]
  },
  {
   "cell_type": "code",
   "execution_count": null,
   "id": "4bd60414",
   "metadata": {},
   "outputs": [],
   "source": [
    "heights_np = np.array(heights_m)\n",
    "weights_np = np.array(weights_kg)"
   ]
  },
  {
   "cell_type": "code",
   "execution_count": null,
   "id": "3d400760",
   "metadata": {},
   "outputs": [],
   "source": [
    "bmis_from_numpy = weights_np / (heights_np ** 2)"
   ]
  },
  {
   "cell_type": "markdown",
   "id": "35980e71",
   "metadata": {},
   "source": [
    "it is very fast so hard to grasp the difference. We can measure time using the `time` module from the Python Standard Library and compare."
   ]
  },
  {
   "cell_type": "code",
   "execution_count": null,
   "id": "a7943714",
   "metadata": {},
   "outputs": [],
   "source": [
    "import time"
   ]
  },
  {
   "cell_type": "code",
   "execution_count": null,
   "id": "6c89f113",
   "metadata": {},
   "outputs": [],
   "source": [
    "start = time.time()\n",
    "bmis = []\n",
    "for i in range(n):\n",
    "  bmi = weights_kg[i] / (heights_m[i] ** 2)\n",
    "  bmis.append(bmi)\n",
    "end = time.time()"
   ]
  },
  {
   "cell_type": "code",
   "execution_count": null,
   "id": "925a478a",
   "metadata": {},
   "outputs": [],
   "source": [
    "without_vectorization = end - start\n",
    "without_vectorization"
   ]
  },
  {
   "cell_type": "code",
   "execution_count": null,
   "id": "665104d6",
   "metadata": {},
   "outputs": [],
   "source": [
    "start = time.time()\n",
    "bmis_from_numpy = weights_np / (heights_np ** 2)\n",
    "end = time.time()"
   ]
  },
  {
   "cell_type": "code",
   "execution_count": null,
   "id": "96bea5c3",
   "metadata": {},
   "outputs": [],
   "source": [
    "with_vectorization = end - start"
   ]
  },
  {
   "cell_type": "code",
   "execution_count": null,
   "id": "b9a3546f",
   "metadata": {},
   "outputs": [],
   "source": [
    "print(f\"Without vectorization the calculation took {without_vectorization:.4f} seconds.\")\n",
    "print(f\"With vectorization the calculation took {with_vectorization:.4f} seconds.\")\n",
    "print(f\"{without_vectorization/with_vectorization:.2f} times faster!\")"
   ]
  },
  {
   "cell_type": "markdown",
   "id": "57c62b22",
   "metadata": {},
   "source": [
    "**Exercise 11.12**\n",
    "\n",
    "The code below calculates the discounted prices of 10 products by applying a corresponding percentage discount to each original price; vectorize it with NumPy to run it in a single line."
   ]
  },
  {
   "cell_type": "code",
   "execution_count": null,
   "id": "5cd62477",
   "metadata": {},
   "outputs": [],
   "source": [
    "prices = np.array([10.50, 1.35, 3.99, 0.50, 4.15, 20, 13.45, 21.10, 100, 70]) # euros\n",
    "discounts = np.array([10, 5, 10, 20, 5, 10, 10, 10, 5, 20]) # % discount"
   ]
  },
  {
   "cell_type": "code",
   "execution_count": null,
   "id": "f29e7af9",
   "metadata": {},
   "outputs": [],
   "source": [
    "discounted_prices = []\n",
    "for i, price in enumerate(prices):\n",
    "    discounted_price = prices[i] - prices[i] * discounts[i] / 100\n",
    "    discounted_prices.append(discounted_price)\n",
    "discounted_prices = np.array(discounted_prices)\n",
    "discounted_prices"
   ]
  },
  {
   "cell_type": "code",
   "execution_count": null,
   "id": "f66e71bc",
   "metadata": {},
   "outputs": [],
   "source": [
    "# YOUR CODE HERE"
   ]
  },
  {
   "cell_type": "markdown",
   "id": "fe451ba6",
   "metadata": {},
   "source": [
    "That is it for now.\n",
    "\n",
    "Knowing NumPy is not about memorizing every function or method. It’s about understanding what tasks can be done with it and how to do them efficiently. We won’t cover every method or module here, so it’s important to get comfortable reading the documentation and learning features as you need them. As a data scientist, NumPy will be an essential part of your work, so invest the time to learn it well."
   ]
  },
  {
   "cell_type": "markdown",
   "id": "53ce34da",
   "metadata": {},
   "source": [
    "## 11.4 pandas tutorial"
   ]
  },
  {
   "cell_type": "markdown",
   "id": "f559ab8a",
   "metadata": {},
   "source": [
    "Pandas builds on top of NumPy, using its fast and efficient array operations as the foundation. Pandas adds powerful tools for working with structured, labeled data such as tables from spreadsheets, databases, or CSV files. Understanding NumPy will help you grasp how Pandas stores and processes data, but Pandas will take you further by making it easier to clean, explore, and analyze real-world datasets.\n",
    "\n",
    "Pandas provides two types of classes for handling data:\n",
    "\n",
    "1. `Series`: a one-dimensional labeled array holding data of any type such as integers, strings, Python objects etc.\n",
    "\n",
    "2. `DataFrame`: a two-dimensional data structure that holds data like a two-dimension array or a table with rows and columns."
   ]
  },
  {
   "cell_type": "markdown",
   "id": "711f39d2",
   "metadata": {},
   "source": [
    "### 11.4.1 Series and DataFrame basics"
   ]
  },
  {
   "cell_type": "code",
   "execution_count": null,
   "id": "54922be0",
   "metadata": {},
   "outputs": [],
   "source": [
    "s = pd.Series([1, 3, 5, np.nan, 6, 8])\n",
    "s"
   ]
  },
  {
   "cell_type": "code",
   "execution_count": null,
   "id": "d58bdff8",
   "metadata": {},
   "outputs": [],
   "source": [
    "type(s)"
   ]
  },
  {
   "cell_type": "code",
   "execution_count": null,
   "id": "c226cc3f",
   "metadata": {},
   "outputs": [],
   "source": [
    "# let's generate data again as we did for the BMI calculation above\n",
    "n = 100\n",
    "heights_m = [random.uniform(1.5, 2.0) for _ in range(n)]\n",
    "\n",
    "# create df\n",
    "df = pd.DataFrame(heights_m, columns=['Height (m)'])\n",
    "df"
   ]
  },
  {
   "cell_type": "code",
   "execution_count": null,
   "id": "7d9e29b4",
   "metadata": {},
   "outputs": [],
   "source": [
    "type(df)"
   ]
  },
  {
   "cell_type": "markdown",
   "id": "1a96ad75",
   "metadata": {},
   "source": [
    "we can do this with multiple columns by passing a dictionary"
   ]
  },
  {
   "cell_type": "code",
   "execution_count": null,
   "id": "f6c8f415",
   "metadata": {},
   "outputs": [],
   "source": [
    "n = 100\n",
    "heights_m = [random.uniform(1.5, 2.0) for _ in range(n)]\n",
    "weights_kg = [random.uniform(50, 100) for _ in range(n)]\n",
    "\n",
    "# create df\n",
    "df = pd.DataFrame({'Height (m)':heights_m, 'Weight (kg)':weights_kg})\n",
    "df"
   ]
  },
  {
   "cell_type": "markdown",
   "id": "1b6e1f2c",
   "metadata": {},
   "source": [
    "**Exercise 11.13**\n",
    "\n",
    "Create a `Series` and a `DataFrame`"
   ]
  },
  {
   "cell_type": "code",
   "execution_count": null,
   "id": "ea1f0be1",
   "metadata": {},
   "outputs": [],
   "source": [
    "# YOUR CODE HERE"
   ]
  },
  {
   "cell_type": "markdown",
   "id": "4da8e903",
   "metadata": {},
   "source": [
    "the following methods can help you understand what any `df` contains quickly"
   ]
  },
  {
   "cell_type": "code",
   "execution_count": null,
   "id": "6f521fe4",
   "metadata": {},
   "outputs": [],
   "source": [
    "df.head() # first 5 items"
   ]
  },
  {
   "cell_type": "code",
   "execution_count": null,
   "id": "7bfe28cd",
   "metadata": {},
   "outputs": [],
   "source": [
    "df.tail() # last 5 items"
   ]
  },
  {
   "cell_type": "code",
   "execution_count": null,
   "id": "39e12c4f",
   "metadata": {},
   "outputs": [],
   "source": [
    "df.describe() # stats per column"
   ]
  },
  {
   "cell_type": "code",
   "execution_count": null,
   "id": "3351ea4d",
   "metadata": {},
   "outputs": [],
   "source": [
    "df.info() # overall info"
   ]
  },
  {
   "cell_type": "markdown",
   "id": "dcf50e36",
   "metadata": {},
   "source": [
    "**Exercise 11.14**\n",
    "\n",
    "Apply `.head()`, `.tail()`, `.describe()`, `.info()` to the `df` you created in the previous exercise."
   ]
  },
  {
   "cell_type": "code",
   "execution_count": 46,
   "id": "4f272d2f",
   "metadata": {},
   "outputs": [
    {
     "name": "stdout",
     "output_type": "stream",
     "text": [
      "    Name  Age  Score\n",
      "0   Carl   22     88\n",
      "1  Jacob   30     94\n",
      "2  Peter   35     95\n",
      "3  David   41     80\n",
      "4   Koen   45     85\n",
      "    Name  Age  Score\n",
      "0   Carl   22     88\n",
      "1  Jacob   30     94\n",
      "2  Peter   35     95\n",
      "3  David   41     80\n",
      "4   Koen   45     85\n",
      "             Age      Score\n",
      "count   5.000000   5.000000\n",
      "mean   34.600000  88.400000\n",
      "std     9.071935   6.268971\n",
      "min    22.000000  80.000000\n",
      "25%    30.000000  85.000000\n",
      "50%    35.000000  88.000000\n",
      "75%    41.000000  94.000000\n",
      "max    45.000000  95.000000\n",
      "<class 'pandas.core.frame.DataFrame'>\n",
      "RangeIndex: 5 entries, 0 to 4\n",
      "Data columns (total 3 columns):\n",
      " #   Column  Non-Null Count  Dtype \n",
      "---  ------  --------------  ----- \n",
      " 0   Name    5 non-null      object\n",
      " 1   Age     5 non-null      int64 \n",
      " 2   Score   5 non-null      int64 \n",
      "dtypes: int64(2), object(1)\n",
      "memory usage: 252.0+ bytes\n",
      "None\n"
     ]
    }
   ],
   "source": [
    "print(df.head())\n",
    "print(df.tail())\n",
    "print(df.describe())\n",
    "print(df.info())\n"
   ]
  },
  {
   "cell_type": "markdown",
   "id": "111a3e61",
   "metadata": {},
   "source": [
    "### 11.4.2 Indexing, slicing, filtering DataFrames"
   ]
  },
  {
   "cell_type": "markdown",
   "id": "068fae38",
   "metadata": {},
   "source": [
    "In numpy we use indices to access element, in pandas we have two options:\n",
    "\n",
    "1. `iloc`, integer based indexing like numpy\n",
    "2. `loc`, label based indexing\n",
    "\n",
    "the best way to understand is to see these in action"
   ]
  },
  {
   "cell_type": "code",
   "execution_count": null,
   "id": "0ae2d157",
   "metadata": {},
   "outputs": [],
   "source": [
    "df = pd.DataFrame({\n",
    "    'A': [10, 20, 30],\n",
    "    'B': [40, 50, 60],\n",
    "    'C': [70, 80, 90]\n",
    "}, index=['x', 'y', 'z'])\n",
    "df"
   ]
  },
  {
   "cell_type": "markdown",
   "id": "c851a50f",
   "metadata": {},
   "source": [
    "I can access 80 as follows"
   ]
  },
  {
   "cell_type": "code",
   "execution_count": null,
   "id": "8680cd95",
   "metadata": {},
   "outputs": [],
   "source": [
    "df.iloc[1, 2]"
   ]
  },
  {
   "cell_type": "code",
   "execution_count": null,
   "id": "c43251e1",
   "metadata": {},
   "outputs": [],
   "source": [
    "df.loc['y', 'C']"
   ]
  },
  {
   "cell_type": "markdown",
   "id": "bc95d392",
   "metadata": {},
   "source": [
    "**Exercise 11.15**\n",
    "\n",
    "For the array given below, get `60` using both `iloc` and `loc`."
   ]
  },
  {
   "cell_type": "code",
   "execution_count": 47,
   "id": "4aa9beab",
   "metadata": {},
   "outputs": [
    {
     "data": {
      "text/html": [
       "<div>\n",
       "<style scoped>\n",
       "    .dataframe tbody tr th:only-of-type {\n",
       "        vertical-align: middle;\n",
       "    }\n",
       "\n",
       "    .dataframe tbody tr th {\n",
       "        vertical-align: top;\n",
       "    }\n",
       "\n",
       "    .dataframe thead th {\n",
       "        text-align: right;\n",
       "    }\n",
       "</style>\n",
       "<table border=\"1\" class=\"dataframe\">\n",
       "  <thead>\n",
       "    <tr style=\"text-align: right;\">\n",
       "      <th></th>\n",
       "      <th>A</th>\n",
       "      <th>B</th>\n",
       "      <th>C</th>\n",
       "    </tr>\n",
       "  </thead>\n",
       "  <tbody>\n",
       "    <tr>\n",
       "      <th>x</th>\n",
       "      <td>10</td>\n",
       "      <td>40</td>\n",
       "      <td>70</td>\n",
       "    </tr>\n",
       "    <tr>\n",
       "      <th>y</th>\n",
       "      <td>20</td>\n",
       "      <td>50</td>\n",
       "      <td>80</td>\n",
       "    </tr>\n",
       "    <tr>\n",
       "      <th>z</th>\n",
       "      <td>30</td>\n",
       "      <td>60</td>\n",
       "      <td>90</td>\n",
       "    </tr>\n",
       "  </tbody>\n",
       "</table>\n",
       "</div>"
      ],
      "text/plain": [
       "    A   B   C\n",
       "x  10  40  70\n",
       "y  20  50  80\n",
       "z  30  60  90"
      ]
     },
     "execution_count": 47,
     "metadata": {},
     "output_type": "execute_result"
    }
   ],
   "source": [
    "df = pd.DataFrame({\n",
    "    'A': [10, 20, 30],\n",
    "    'B': [40, 50, 60],\n",
    "    'C': [70, 80, 90]\n",
    "}, index=['x', 'y', 'z'])\n",
    "df"
   ]
  },
  {
   "cell_type": "code",
   "execution_count": 48,
   "id": "08a20a0b",
   "metadata": {},
   "outputs": [
    {
     "name": "stdout",
     "output_type": "stream",
     "text": [
      "60\n"
     ]
    }
   ],
   "source": [
    "print(df.iloc[2, 1])\n"
   ]
  },
  {
   "cell_type": "markdown",
   "id": "d29b57d7",
   "metadata": {},
   "source": [
    "slicing with `iloc` works very much like numpy"
   ]
  },
  {
   "cell_type": "code",
   "execution_count": null,
   "id": "682721ae",
   "metadata": {},
   "outputs": [],
   "source": [
    "df.iloc[0:2, 0:2]"
   ]
  },
  {
   "cell_type": "markdown",
   "id": "d92ec769",
   "metadata": {},
   "source": [
    "but slicing with `loc` is a counterintuitive because the end is included, so be very careful!"
   ]
  },
  {
   "cell_type": "code",
   "execution_count": null,
   "id": "d6d1c4d5",
   "metadata": {},
   "outputs": [],
   "source": [
    "df.loc['x':'z', 'A':'C']"
   ]
  },
  {
   "cell_type": "markdown",
   "id": "d9adc2c3",
   "metadata": {},
   "source": [
    "this is especially a problem when row labels are numbers, which is very common"
   ]
  },
  {
   "cell_type": "code",
   "execution_count": null,
   "id": "ea4d54aa",
   "metadata": {},
   "outputs": [],
   "source": [
    "df = pd.DataFrame({\n",
    "    'A': [10, 20, 30],\n",
    "    'B': [40, 50, 60],\n",
    "    'C': [70, 80, 90]\n",
    "})\n",
    "df"
   ]
  },
  {
   "cell_type": "markdown",
   "id": "62d434f3",
   "metadata": {},
   "source": [
    "let's slice with `0:2` using `iloc` and `loc`"
   ]
  },
  {
   "cell_type": "code",
   "execution_count": null,
   "id": "8c204690",
   "metadata": {},
   "outputs": [],
   "source": [
    "df.iloc[0:2]"
   ]
  },
  {
   "cell_type": "code",
   "execution_count": null,
   "id": "457755b7",
   "metadata": {},
   "outputs": [],
   "source": [
    "df.loc[0:2]"
   ]
  },
  {
   "cell_type": "markdown",
   "id": "87193ecf",
   "metadata": {},
   "source": [
    "Now let’s make things a bit more confusing 🥲 Let's add more rows to our df and drop the second row. Dropping rows is common in data analysis when certain rows are corrupted, empty, or simply not relevant to the analysis."
   ]
  },
  {
   "cell_type": "code",
   "execution_count": null,
   "id": "c3bd2af9",
   "metadata": {},
   "outputs": [],
   "source": [
    "df = pd.DataFrame({\n",
    "    'A': [10, 20, 30, 31, 32],\n",
    "    'B': [40, 50, 60, 61, 62],\n",
    "    'C': [70, 80, 90, 91, 92]\n",
    "})\n",
    "df"
   ]
  },
  {
   "cell_type": "code",
   "execution_count": null,
   "id": "47e69dc6",
   "metadata": {},
   "outputs": [],
   "source": [
    "df = df.drop(1)\n",
    "df"
   ]
  },
  {
   "cell_type": "markdown",
   "id": "28a8e5f8",
   "metadata": {},
   "source": [
    "let's use `iloc[2]` and `loc[2]` and see what happens"
   ]
  },
  {
   "cell_type": "code",
   "execution_count": null,
   "id": "1a860299",
   "metadata": {},
   "outputs": [],
   "source": [
    "df.iloc[2]"
   ]
  },
  {
   "cell_type": "code",
   "execution_count": null,
   "id": "08c9bf1a",
   "metadata": {},
   "outputs": [],
   "source": [
    "df.loc[2]"
   ]
  },
  {
   "cell_type": "markdown",
   "id": "07031c15",
   "metadata": {},
   "source": [
    "we got different results 🥲 but why why why? Because:\n",
    "\n",
    "- the `2` in `iloc` is the integer index which means the 3rd row, independent of the row label\n",
    "- while the `2` in `loc` is the row label, independent of the row position"
   ]
  },
  {
   "cell_type": "markdown",
   "id": "5dc9f536",
   "metadata": {},
   "source": [
    "**Exercise 11.16**\n",
    "\n",
    "What would happen if you apply `df.iloc[1]` and `df.loc[1]` to the `df` given below. First try to guess and then run the code to see if you guessed correctly."
   ]
  },
  {
   "cell_type": "code",
   "execution_count": 49,
   "id": "10de2778",
   "metadata": {},
   "outputs": [
    {
     "data": {
      "text/html": [
       "<div>\n",
       "<style scoped>\n",
       "    .dataframe tbody tr th:only-of-type {\n",
       "        vertical-align: middle;\n",
       "    }\n",
       "\n",
       "    .dataframe tbody tr th {\n",
       "        vertical-align: top;\n",
       "    }\n",
       "\n",
       "    .dataframe thead th {\n",
       "        text-align: right;\n",
       "    }\n",
       "</style>\n",
       "<table border=\"1\" class=\"dataframe\">\n",
       "  <thead>\n",
       "    <tr style=\"text-align: right;\">\n",
       "      <th></th>\n",
       "      <th>A</th>\n",
       "      <th>B</th>\n",
       "      <th>C</th>\n",
       "    </tr>\n",
       "  </thead>\n",
       "  <tbody>\n",
       "    <tr>\n",
       "      <th>0</th>\n",
       "      <td>10</td>\n",
       "      <td>40</td>\n",
       "      <td>70</td>\n",
       "    </tr>\n",
       "    <tr>\n",
       "      <th>2</th>\n",
       "      <td>30</td>\n",
       "      <td>60</td>\n",
       "      <td>90</td>\n",
       "    </tr>\n",
       "    <tr>\n",
       "      <th>3</th>\n",
       "      <td>31</td>\n",
       "      <td>61</td>\n",
       "      <td>91</td>\n",
       "    </tr>\n",
       "    <tr>\n",
       "      <th>4</th>\n",
       "      <td>32</td>\n",
       "      <td>62</td>\n",
       "      <td>92</td>\n",
       "    </tr>\n",
       "  </tbody>\n",
       "</table>\n",
       "</div>"
      ],
      "text/plain": [
       "    A   B   C\n",
       "0  10  40  70\n",
       "2  30  60  90\n",
       "3  31  61  91\n",
       "4  32  62  92"
      ]
     },
     "execution_count": 49,
     "metadata": {},
     "output_type": "execute_result"
    }
   ],
   "source": [
    "df = pd.DataFrame({\n",
    "    'A': [10, 20, 30, 31, 32],\n",
    "    'B': [40, 50, 60, 61, 62],\n",
    "    'C': [70, 80, 90, 91, 92]\n",
    "})\n",
    "df = df.drop(1)\n",
    "df"
   ]
  },
  {
   "cell_type": "code",
   "execution_count": 51,
   "id": "cf07ec88",
   "metadata": {},
   "outputs": [
    {
     "data": {
      "text/plain": [
       "A    30\n",
       "B    60\n",
       "C    90\n",
       "Name: 2, dtype: int64"
      ]
     },
     "execution_count": 51,
     "metadata": {},
     "output_type": "execute_result"
    }
   ],
   "source": [
    "# guess before running the code\n",
    "df.iloc[1]"
   ]
  },
  {
   "cell_type": "code",
   "execution_count": 52,
   "id": "1d5845ef",
   "metadata": {},
   "outputs": [
    {
     "ename": "KeyError",
     "evalue": "1",
     "output_type": "error",
     "traceback": [
      "\u001b[31m---------------------------------------------------------------------------\u001b[39m",
      "\u001b[31mKeyError\u001b[39m                                  Traceback (most recent call last)",
      "\u001b[36mFile \u001b[39m\u001b[32mc:\\Users\\sneld\\AppData\\Local\\Programs\\Python\\Python313\\Lib\\site-packages\\pandas\\core\\indexes\\base.py:3812\u001b[39m, in \u001b[36mIndex.get_loc\u001b[39m\u001b[34m(self, key)\u001b[39m\n\u001b[32m   3811\u001b[39m \u001b[38;5;28;01mtry\u001b[39;00m:\n\u001b[32m-> \u001b[39m\u001b[32m3812\u001b[39m     \u001b[38;5;28;01mreturn\u001b[39;00m \u001b[38;5;28;43mself\u001b[39;49m\u001b[43m.\u001b[49m\u001b[43m_engine\u001b[49m\u001b[43m.\u001b[49m\u001b[43mget_loc\u001b[49m\u001b[43m(\u001b[49m\u001b[43mcasted_key\u001b[49m\u001b[43m)\u001b[49m\n\u001b[32m   3813\u001b[39m \u001b[38;5;28;01mexcept\u001b[39;00m \u001b[38;5;167;01mKeyError\u001b[39;00m \u001b[38;5;28;01mas\u001b[39;00m err:\n",
      "\u001b[36mFile \u001b[39m\u001b[32mpandas/_libs/index.pyx:167\u001b[39m, in \u001b[36mpandas._libs.index.IndexEngine.get_loc\u001b[39m\u001b[34m()\u001b[39m\n",
      "\u001b[36mFile \u001b[39m\u001b[32mpandas/_libs/index.pyx:196\u001b[39m, in \u001b[36mpandas._libs.index.IndexEngine.get_loc\u001b[39m\u001b[34m()\u001b[39m\n",
      "\u001b[36mFile \u001b[39m\u001b[32mpandas/_libs/hashtable_class_helper.pxi:2606\u001b[39m, in \u001b[36mpandas._libs.hashtable.Int64HashTable.get_item\u001b[39m\u001b[34m()\u001b[39m\n",
      "\u001b[36mFile \u001b[39m\u001b[32mpandas/_libs/hashtable_class_helper.pxi:2630\u001b[39m, in \u001b[36mpandas._libs.hashtable.Int64HashTable.get_item\u001b[39m\u001b[34m()\u001b[39m\n",
      "\u001b[31mKeyError\u001b[39m: 1",
      "\nThe above exception was the direct cause of the following exception:\n",
      "\u001b[31mKeyError\u001b[39m                                  Traceback (most recent call last)",
      "\u001b[36mCell\u001b[39m\u001b[36m \u001b[39m\u001b[32mIn[52]\u001b[39m\u001b[32m, line 2\u001b[39m\n\u001b[32m      1\u001b[39m \u001b[38;5;66;03m# guess before running the code\u001b[39;00m\n\u001b[32m----> \u001b[39m\u001b[32m2\u001b[39m \u001b[43mdf\u001b[49m\u001b[43m.\u001b[49m\u001b[43mloc\u001b[49m\u001b[43m[\u001b[49m\u001b[32;43m1\u001b[39;49m\u001b[43m]\u001b[49m\n",
      "\u001b[36mFile \u001b[39m\u001b[32mc:\\Users\\sneld\\AppData\\Local\\Programs\\Python\\Python313\\Lib\\site-packages\\pandas\\core\\indexing.py:1191\u001b[39m, in \u001b[36m_LocationIndexer.__getitem__\u001b[39m\u001b[34m(self, key)\u001b[39m\n\u001b[32m   1189\u001b[39m maybe_callable = com.apply_if_callable(key, \u001b[38;5;28mself\u001b[39m.obj)\n\u001b[32m   1190\u001b[39m maybe_callable = \u001b[38;5;28mself\u001b[39m._check_deprecated_callable_usage(key, maybe_callable)\n\u001b[32m-> \u001b[39m\u001b[32m1191\u001b[39m \u001b[38;5;28;01mreturn\u001b[39;00m \u001b[38;5;28;43mself\u001b[39;49m\u001b[43m.\u001b[49m\u001b[43m_getitem_axis\u001b[49m\u001b[43m(\u001b[49m\u001b[43mmaybe_callable\u001b[49m\u001b[43m,\u001b[49m\u001b[43m \u001b[49m\u001b[43maxis\u001b[49m\u001b[43m=\u001b[49m\u001b[43maxis\u001b[49m\u001b[43m)\u001b[49m\n",
      "\u001b[36mFile \u001b[39m\u001b[32mc:\\Users\\sneld\\AppData\\Local\\Programs\\Python\\Python313\\Lib\\site-packages\\pandas\\core\\indexing.py:1431\u001b[39m, in \u001b[36m_LocIndexer._getitem_axis\u001b[39m\u001b[34m(self, key, axis)\u001b[39m\n\u001b[32m   1429\u001b[39m \u001b[38;5;66;03m# fall thru to straight lookup\u001b[39;00m\n\u001b[32m   1430\u001b[39m \u001b[38;5;28mself\u001b[39m._validate_key(key, axis)\n\u001b[32m-> \u001b[39m\u001b[32m1431\u001b[39m \u001b[38;5;28;01mreturn\u001b[39;00m \u001b[38;5;28;43mself\u001b[39;49m\u001b[43m.\u001b[49m\u001b[43m_get_label\u001b[49m\u001b[43m(\u001b[49m\u001b[43mkey\u001b[49m\u001b[43m,\u001b[49m\u001b[43m \u001b[49m\u001b[43maxis\u001b[49m\u001b[43m=\u001b[49m\u001b[43maxis\u001b[49m\u001b[43m)\u001b[49m\n",
      "\u001b[36mFile \u001b[39m\u001b[32mc:\\Users\\sneld\\AppData\\Local\\Programs\\Python\\Python313\\Lib\\site-packages\\pandas\\core\\indexing.py:1381\u001b[39m, in \u001b[36m_LocIndexer._get_label\u001b[39m\u001b[34m(self, label, axis)\u001b[39m\n\u001b[32m   1379\u001b[39m \u001b[38;5;28;01mdef\u001b[39;00m\u001b[38;5;250m \u001b[39m\u001b[34m_get_label\u001b[39m(\u001b[38;5;28mself\u001b[39m, label, axis: AxisInt):\n\u001b[32m   1380\u001b[39m     \u001b[38;5;66;03m# GH#5567 this will fail if the label is not present in the axis.\u001b[39;00m\n\u001b[32m-> \u001b[39m\u001b[32m1381\u001b[39m     \u001b[38;5;28;01mreturn\u001b[39;00m \u001b[38;5;28;43mself\u001b[39;49m\u001b[43m.\u001b[49m\u001b[43mobj\u001b[49m\u001b[43m.\u001b[49m\u001b[43mxs\u001b[49m\u001b[43m(\u001b[49m\u001b[43mlabel\u001b[49m\u001b[43m,\u001b[49m\u001b[43m \u001b[49m\u001b[43maxis\u001b[49m\u001b[43m=\u001b[49m\u001b[43maxis\u001b[49m\u001b[43m)\u001b[49m\n",
      "\u001b[36mFile \u001b[39m\u001b[32mc:\\Users\\sneld\\AppData\\Local\\Programs\\Python\\Python313\\Lib\\site-packages\\pandas\\core\\generic.py:4320\u001b[39m, in \u001b[36mNDFrame.xs\u001b[39m\u001b[34m(self, key, axis, level, drop_level)\u001b[39m\n\u001b[32m   4318\u001b[39m             new_index = index[loc]\n\u001b[32m   4319\u001b[39m \u001b[38;5;28;01melse\u001b[39;00m:\n\u001b[32m-> \u001b[39m\u001b[32m4320\u001b[39m     loc = \u001b[43mindex\u001b[49m\u001b[43m.\u001b[49m\u001b[43mget_loc\u001b[49m\u001b[43m(\u001b[49m\u001b[43mkey\u001b[49m\u001b[43m)\u001b[49m\n\u001b[32m   4322\u001b[39m     \u001b[38;5;28;01mif\u001b[39;00m \u001b[38;5;28misinstance\u001b[39m(loc, np.ndarray):\n\u001b[32m   4323\u001b[39m         \u001b[38;5;28;01mif\u001b[39;00m loc.dtype == np.bool_:\n",
      "\u001b[36mFile \u001b[39m\u001b[32mc:\\Users\\sneld\\AppData\\Local\\Programs\\Python\\Python313\\Lib\\site-packages\\pandas\\core\\indexes\\base.py:3819\u001b[39m, in \u001b[36mIndex.get_loc\u001b[39m\u001b[34m(self, key)\u001b[39m\n\u001b[32m   3814\u001b[39m     \u001b[38;5;28;01mif\u001b[39;00m \u001b[38;5;28misinstance\u001b[39m(casted_key, \u001b[38;5;28mslice\u001b[39m) \u001b[38;5;129;01mor\u001b[39;00m (\n\u001b[32m   3815\u001b[39m         \u001b[38;5;28misinstance\u001b[39m(casted_key, abc.Iterable)\n\u001b[32m   3816\u001b[39m         \u001b[38;5;129;01mand\u001b[39;00m \u001b[38;5;28many\u001b[39m(\u001b[38;5;28misinstance\u001b[39m(x, \u001b[38;5;28mslice\u001b[39m) \u001b[38;5;28;01mfor\u001b[39;00m x \u001b[38;5;129;01min\u001b[39;00m casted_key)\n\u001b[32m   3817\u001b[39m     ):\n\u001b[32m   3818\u001b[39m         \u001b[38;5;28;01mraise\u001b[39;00m InvalidIndexError(key)\n\u001b[32m-> \u001b[39m\u001b[32m3819\u001b[39m     \u001b[38;5;28;01mraise\u001b[39;00m \u001b[38;5;167;01mKeyError\u001b[39;00m(key) \u001b[38;5;28;01mfrom\u001b[39;00m\u001b[38;5;250m \u001b[39m\u001b[34;01merr\u001b[39;00m\n\u001b[32m   3820\u001b[39m \u001b[38;5;28;01mexcept\u001b[39;00m \u001b[38;5;167;01mTypeError\u001b[39;00m:\n\u001b[32m   3821\u001b[39m     \u001b[38;5;66;03m# If we have a listlike key, _check_indexing_error will raise\u001b[39;00m\n\u001b[32m   3822\u001b[39m     \u001b[38;5;66;03m#  InvalidIndexError. Otherwise we fall through and re-raise\u001b[39;00m\n\u001b[32m   3823\u001b[39m     \u001b[38;5;66;03m#  the TypeError.\u001b[39;00m\n\u001b[32m   3824\u001b[39m     \u001b[38;5;28mself\u001b[39m._check_indexing_error(key)\n",
      "\u001b[31mKeyError\u001b[39m: 1"
     ]
    }
   ],
   "source": [
    "# guess before running the code\n",
    "df.loc[1]"
   ]
  },
  {
   "cell_type": "markdown",
   "id": "afde19fc",
   "metadata": {},
   "source": [
    "This might be confusing at first, but understanding it will give you a proper foundation in pandas, making it easier to build new knowledge on top. The rest of the concepts are intuitive."
   ]
  },
  {
   "cell_type": "code",
   "execution_count": null,
   "id": "077cf608",
   "metadata": {},
   "outputs": [],
   "source": [
    "df['A'] # get a column"
   ]
  },
  {
   "cell_type": "code",
   "execution_count": null,
   "id": "d56f41a9",
   "metadata": {},
   "outputs": [],
   "source": [
    "# Select all rows where the value in column 'A' is greater than 30\n",
    "df[df['A'] > 30]"
   ]
  },
  {
   "cell_type": "markdown",
   "id": "8b5c0f7f",
   "metadata": {},
   "source": [
    "### 11.4.3 Operations"
   ]
  },
  {
   "cell_type": "markdown",
   "id": "9fdda203",
   "metadata": {},
   "source": [
    "It works like numpy. Let's replicate the BMI calculation and save it as a new column"
   ]
  },
  {
   "cell_type": "code",
   "execution_count": null,
   "id": "2da432d5",
   "metadata": {},
   "outputs": [],
   "source": [
    "n = 100\n",
    "heights_m = [random.uniform(1.5, 2.0) for _ in range(n)]\n",
    "weights_kg = [random.uniform(50, 100) for _ in range(n)]\n",
    "\n",
    "# create df\n",
    "df = pd.DataFrame({'Height (m)':heights_m, 'Weight (kg)':weights_kg})\n",
    "df"
   ]
  },
  {
   "cell_type": "code",
   "execution_count": null,
   "id": "e56c2c7d",
   "metadata": {},
   "outputs": [],
   "source": [
    "# that's it\n",
    "df['BMI'] = df['Weight (kg)'] / (df['Height (m)']**2)\n",
    "df"
   ]
  },
  {
   "cell_type": "markdown",
   "id": "da47c280",
   "metadata": {},
   "source": [
    "the vectorization idea works exactly the same in pandas. Instead of iterating over values, try to make your operations column or row wise to make it faster."
   ]
  },
  {
   "cell_type": "code",
   "execution_count": null,
   "id": "37295642",
   "metadata": {},
   "outputs": [],
   "source": [
    "df.mean(axis=0) # mean of all columns"
   ]
  },
  {
   "cell_type": "code",
   "execution_count": null,
   "id": "819fcad7",
   "metadata": {},
   "outputs": [],
   "source": [
    "df.mean(axis=1) # mean of all rows"
   ]
  },
  {
   "cell_type": "markdown",
   "id": "d13d51b8",
   "metadata": {},
   "source": [
    "**Exercise 11.17**\n",
    "\n",
    "convert the `Height (m)` column to cm and save it as a new column `Height (cm)`"
   ]
  },
  {
   "cell_type": "code",
   "execution_count": null,
   "id": "4f14d444",
   "metadata": {},
   "outputs": [],
   "source": [
    "# YOUR CODE HERE"
   ]
  },
  {
   "cell_type": "markdown",
   "id": "c6f32cb7",
   "metadata": {},
   "source": [
    "### 11.4.4 Working with missing data"
   ]
  },
  {
   "cell_type": "markdown",
   "id": "8588e5f4",
   "metadata": {},
   "source": [
    "One way or another, you will encounter DataFrames with missing data. The most common representation is `NaN` (Not a Number), but missing values can also appear as `None`, `pd.NA`, `np.nan`, `NaT`, and others. The `isna()` method in pandas checks whether a value is considered missing, so it’s important to understand exactly what pandas treats as missing. For example, a string `'nan'` or `'NaN'` is just text and is **not** considered missing, `NaN` is a specific data type, not merely a word.\n"
   ]
  },
  {
   "cell_type": "code",
   "execution_count": null,
   "id": "4216f14d",
   "metadata": {},
   "outputs": [],
   "source": [
    "print(pd.isna(np.nan)) # not a number\n",
    "print(pd.isna(pd.NA)) # Not Available\n",
    "print(pd.isna(None))\n",
    "print(pd.isna(pd.NaT)) # Not a Time"
   ]
  },
  {
   "cell_type": "code",
   "execution_count": null,
   "id": "090cb204",
   "metadata": {},
   "outputs": [],
   "source": [
    "print(pd.isna('nan')) # 'nan' (string) → just text, not a real NaN value\n",
    "print(pd.isna('NaN')) # 'NaN' (string) → also just text, not a real NaN\n",
    "print(pd.isna(False))  # Boolean False → a valid value, not missing\n",
    "print(pd.isna(0)) # Number 0 → valid numeric value, not missing\n",
    "print(pd.isna('')) # Empty string → valid string, not considered missing by default\n"
   ]
  },
  {
   "cell_type": "markdown",
   "id": "da45d338",
   "metadata": {},
   "source": [
    "now that you know what is considered missing and what is not, let's see the operations you can do on a `df` with missing values"
   ]
  },
  {
   "cell_type": "code",
   "execution_count": null,
   "id": "e96259cb",
   "metadata": {},
   "outputs": [],
   "source": [
    "arr = np.array([[np.nan, 1, 5, 10],\n",
    "               [34, np.nan, 0, 0],\n",
    "               [4, np.nan, np.nan, 0],\n",
    "               [10, 10, 10, 0]])\n",
    "df = pd.DataFrame(arr, columns=['A', 'B', 'C', 'D'])\n",
    "df"
   ]
  },
  {
   "cell_type": "code",
   "execution_count": null,
   "id": "80757507",
   "metadata": {},
   "outputs": [],
   "source": [
    "df.isna() # Boolean mask of missing values"
   ]
  },
  {
   "cell_type": "code",
   "execution_count": null,
   "id": "bbfc661d",
   "metadata": {},
   "outputs": [],
   "source": [
    "df.isna().sum() # Count NaNs per column"
   ]
  },
  {
   "cell_type": "code",
   "execution_count": null,
   "id": "d399f873",
   "metadata": {},
   "outputs": [],
   "source": [
    "df.isna().sum(axis=1) # Count NaNs per row"
   ]
  },
  {
   "cell_type": "code",
   "execution_count": null,
   "id": "475eebb4",
   "metadata": {},
   "outputs": [],
   "source": [
    "df.isna().any() # Columns that contain at least one NaN (True/False)"
   ]
  },
  {
   "cell_type": "code",
   "execution_count": null,
   "id": "dddc8a06",
   "metadata": {},
   "outputs": [],
   "source": [
    "df.columns[df.isna().any()]# Column names that contain NaN"
   ]
  },
  {
   "cell_type": "code",
   "execution_count": null,
   "id": "3a4731a3",
   "metadata": {},
   "outputs": [],
   "source": [
    "df[df.isna().any(axis=1)]  # Rows that contain any NaN"
   ]
  },
  {
   "cell_type": "code",
   "execution_count": null,
   "id": "7ff360d3",
   "metadata": {},
   "outputs": [],
   "source": [
    "np.argwhere(np.isnan(df.to_numpy()))  # array of (row, col) indices"
   ]
  },
  {
   "cell_type": "code",
   "execution_count": null,
   "id": "c5069dbf",
   "metadata": {},
   "outputs": [],
   "source": [
    "df.dropna() # Drop rows with ANY NaN"
   ]
  },
  {
   "cell_type": "code",
   "execution_count": null,
   "id": "00bb73c2",
   "metadata": {},
   "outputs": [],
   "source": [
    "df.dropna(axis=1) # Drop columns with ANY NaN"
   ]
  },
  {
   "cell_type": "code",
   "execution_count": null,
   "id": "4d2f56e7",
   "metadata": {},
   "outputs": [],
   "source": [
    "df.dropna(how='all') # Drop rows where ALL values are NaN"
   ]
  },
  {
   "cell_type": "code",
   "execution_count": null,
   "id": "bc0ae526",
   "metadata": {},
   "outputs": [],
   "source": [
    "df.dropna(thresh=3) # Keep rows with at least 3 non-NaNs"
   ]
  },
  {
   "cell_type": "code",
   "execution_count": null,
   "id": "56ca68c1",
   "metadata": {},
   "outputs": [],
   "source": [
    "df.fillna(-99) # Replace all NaNs with a number"
   ]
  },
  {
   "cell_type": "code",
   "execution_count": null,
   "id": "01c5abac",
   "metadata": {},
   "outputs": [],
   "source": [
    "df.fillna(df.mean(numeric_only=True)) # Column-wise mean imputation"
   ]
  },
  {
   "cell_type": "markdown",
   "id": "5eda12fb",
   "metadata": {},
   "source": [
    "if you would like to learn more, please check the documentation: https://pandas.pydata.org/docs/user_guide/missing_data.html"
   ]
  },
  {
   "cell_type": "markdown",
   "id": "8f141fef",
   "metadata": {},
   "source": [
    "### 11.4.5 String methods"
   ]
  },
  {
   "cell_type": "markdown",
   "id": "cb28a3fb",
   "metadata": {},
   "source": [
    "A pandas dataframe can contain strings and we can apply the string methods to the columns"
   ]
  },
  {
   "cell_type": "code",
   "execution_count": null,
   "id": "843afa72",
   "metadata": {},
   "outputs": [],
   "source": [
    "df = pd.DataFrame([[1, 2, 'hey'], [2, 3, 'hola']], columns=['A', 'B', 'C'])\n",
    "df"
   ]
  },
  {
   "cell_type": "code",
   "execution_count": null,
   "id": "6517ca25",
   "metadata": {},
   "outputs": [],
   "source": [
    "# you can see that the dtype is an object\n",
    "# which is common for columns with text\n",
    "df.info()"
   ]
  },
  {
   "cell_type": "code",
   "execution_count": null,
   "id": "985c89fa",
   "metadata": {},
   "outputs": [],
   "source": [
    "# here is how you can apply string methods to the whole column\n",
    "df['C'].str.capitalize()"
   ]
  },
  {
   "cell_type": "markdown",
   "id": "08d3bbec",
   "metadata": {},
   "source": [
    "### 11.4.6 Merging dataframes\n",
    "\n",
    "There are many situations where you need to combine data from different DataFrames. Common cases include:\n",
    "\n",
    "- Adding rows: stacking DataFrames vertically.\n",
    "\n",
    "- Adding columns: joining DataFrames side by side.\n",
    "\n",
    "- Merging by key: bringing in one or more columns from another DataFrame by matching values in a shared column."
   ]
  },
  {
   "cell_type": "code",
   "execution_count": null,
   "id": "e9ac3d70",
   "metadata": {},
   "outputs": [],
   "source": [
    "# vertical stack\n",
    "df1 = pd.DataFrame({'id':[1,2], 'score':[80,85]})\n",
    "df2 = pd.DataFrame({'id':[3,4], 'score':[90,88]})"
   ]
  },
  {
   "cell_type": "code",
   "execution_count": null,
   "id": "6fc2cf8a",
   "metadata": {},
   "outputs": [],
   "source": [
    "df1"
   ]
  },
  {
   "cell_type": "code",
   "execution_count": null,
   "id": "ec5a433b",
   "metadata": {},
   "outputs": [],
   "source": [
    "df2"
   ]
  },
  {
   "cell_type": "code",
   "execution_count": null,
   "id": "58671aef",
   "metadata": {},
   "outputs": [],
   "source": [
    "pd.concat([df1, df2], axis=0, ignore_index=True)"
   ]
  },
  {
   "cell_type": "code",
   "execution_count": null,
   "id": "8df0c683",
   "metadata": {},
   "outputs": [],
   "source": [
    "# horizontal stack\n",
    "left  = pd.DataFrame({'id':[1,2,3]}, index=[10,11,12])\n",
    "right = pd.DataFrame({'age':[21,19,25]}, index=[10,11,12])"
   ]
  },
  {
   "cell_type": "code",
   "execution_count": null,
   "id": "f899fbe5",
   "metadata": {},
   "outputs": [],
   "source": [
    "left"
   ]
  },
  {
   "cell_type": "code",
   "execution_count": null,
   "id": "eac3a52f",
   "metadata": {},
   "outputs": [],
   "source": [
    "right"
   ]
  },
  {
   "cell_type": "code",
   "execution_count": null,
   "id": "e69e01d1",
   "metadata": {},
   "outputs": [],
   "source": [
    "pd.concat([left, right], axis=1)"
   ]
  },
  {
   "cell_type": "code",
   "execution_count": null,
   "id": "6b8e0afd",
   "metadata": {},
   "outputs": [],
   "source": [
    "# merge\n",
    "students = pd.DataFrame({'id':[1,2,3], 'name':['Ana','Bo','Cam']})\n",
    "scores   = pd.DataFrame({'id':[2,3,4], 'score':[85,90,70]})"
   ]
  },
  {
   "cell_type": "code",
   "execution_count": null,
   "id": "c49abab4",
   "metadata": {},
   "outputs": [],
   "source": [
    "students"
   ]
  },
  {
   "cell_type": "code",
   "execution_count": null,
   "id": "c2d56d18",
   "metadata": {},
   "outputs": [],
   "source": [
    "scores"
   ]
  },
  {
   "cell_type": "code",
   "execution_count": null,
   "id": "c76b38f1",
   "metadata": {},
   "outputs": [],
   "source": [
    "pd.merge(students, scores, on='id', how='left')"
   ]
  },
  {
   "cell_type": "markdown",
   "id": "904811f6",
   "metadata": {},
   "source": [
    "### 11.4.7 Loading and saving DataFrames\n"
   ]
  },
  {
   "cell_type": "code",
   "execution_count": null,
   "id": "cf3c0254",
   "metadata": {},
   "outputs": [],
   "source": [
    "pd.read_csv('data.csv', delimiter=';')"
   ]
  },
  {
   "cell_type": "markdown",
   "id": "f382ba4b",
   "metadata": {},
   "source": [
    "you can read many other file formats using `pd.read_fileformat()`, for example for excel you can use `pd.read_excel()`.\n",
    "\n",
    "and to save you will use `df.to_fileformat()`"
   ]
  },
  {
   "cell_type": "code",
   "execution_count": null,
   "id": "95e31323",
   "metadata": {},
   "outputs": [],
   "source": [
    "df = pd.DataFrame([[1, 2, 'hey'], [2, 3, 'hola']], columns=['A', 'B', 'C'])\n",
    "df"
   ]
  },
  {
   "cell_type": "code",
   "execution_count": null,
   "id": "e908c086",
   "metadata": {},
   "outputs": [],
   "source": [
    "df.to_csv('test.csv')"
   ]
  },
  {
   "cell_type": "code",
   "execution_count": null,
   "id": "f02e4fbf",
   "metadata": {},
   "outputs": [],
   "source": [
    "# you will get an error if you don't have the openpyxl module in your conda environment\n",
    "# if so, follow the instructions below\n",
    "try:\n",
    "    df.to_excel('text.xlsx')\n",
    "except Exception as e:\n",
    "    print(\"An error occurred:\", e)"
   ]
  },
  {
   "cell_type": "markdown",
   "id": "f7c3c885",
   "metadata": {},
   "source": [
    "Installing `openpyxl` in your conda environment\n",
    "\n",
    "We will use the `openpyxl` library to work with Excel (`.xlsx`) files in pandas.\n",
    "\n",
    "1. **Open your terminal** (Anaconda Prompt on Windows, Terminal app on macOS/Linux).\n",
    "2. **Activate your course environment**\n",
    "    ```bash\n",
    "    conda activate y1a-2025-26\n",
    "    ```\n",
    "3. **Install `openpyxl`**\n",
    "    ```bash\n",
    "    conda install openpyxl\n",
    "    ```\n",
    "\n",
    "after the installation run `df.to_excel('text.xlsx')` again and check the excel file.\n"
   ]
  },
  {
   "cell_type": "markdown",
   "id": "7bc083d0",
   "metadata": {},
   "source": [
    "### 11.4.8 .apply()"
   ]
  },
  {
   "cell_type": "markdown",
   "id": "72a129ac",
   "metadata": {},
   "source": [
    "In the **string methods** section, you saw how we can use built-in functions directly on a column. In the **operations** section, you learned how to perform column-wise or row-wise calculations with operators like `+`, `-`, or `**2`. But what if we need an operation that is *not* built in, or we want to define our own?\n",
    "\n",
    "That’s where **`.apply()`** comes in. It allows us to pass any function, either one we write ourselves or an existing one, and apply it to each value in a column or row.\n",
    "\n",
    "Let's repeat the processing of the `value` column in `data.csv` using `.apply()`"
   ]
  },
  {
   "cell_type": "code",
   "execution_count": null,
   "id": "92649c91",
   "metadata": {},
   "outputs": [],
   "source": [
    "df = pd.read_csv('data.csv', sep=\";\")\n",
    "df"
   ]
  },
  {
   "cell_type": "code",
   "execution_count": null,
   "id": "cf700b54",
   "metadata": {},
   "outputs": [],
   "source": [
    "def process_value_col(x):\n",
    "    x = x.replace(\"<\", \"\").replace(\">\", \"\")\n",
    "    return int(x)"
   ]
  },
  {
   "cell_type": "code",
   "execution_count": null,
   "id": "ff3d0b90",
   "metadata": {},
   "outputs": [],
   "source": [
    "df['value'] = df['value'].apply(process_value_col)\n",
    "df"
   ]
  },
  {
   "cell_type": "markdown",
   "id": "0d5266b4",
   "metadata": {},
   "source": [
    "If you would like to apply an operation to every element, use [.map()](https://pandas.pydata.org/docs/reference/api/pandas.DataFrame.map.html)"
   ]
  },
  {
   "cell_type": "markdown",
   "id": "c27eea47",
   "metadata": {},
   "source": [
    "## 11.5 Matplotlib tutorial"
   ]
  },
  {
   "cell_type": "markdown",
   "id": "a0e6fc05",
   "metadata": {},
   "source": [
    "We’ll cover Matplotlib briefly; it’s best learned by exploring specific plot types and features as you need them. At its core, a Matplotlib figure is made up of multiple elements, such as a title, axis labels, and the plotted data, all of which can be customized through parameters like color, line style, or font. There’s no need to memorize these options; consult the documentation or ask ChatGPT for guidance when creating a specific type of plot."
   ]
  },
  {
   "cell_type": "markdown",
   "id": "2a55161a",
   "metadata": {},
   "source": [
    "<div style=\"text-align: center;\">\n",
    "  <img src=\"https://matplotlib.org/stable/_images/anatomy.png\" alt=\"Anatomy of a Matplotlib figure\" style=\"width: 40%;\">\n",
    "</div>"
   ]
  },
  {
   "cell_type": "code",
   "execution_count": null,
   "id": "40dbc64d",
   "metadata": {},
   "outputs": [],
   "source": [
    "x = np.random.randint(100, size=100)\n",
    "y = np.random.randint(100, size=100)"
   ]
  },
  {
   "cell_type": "code",
   "execution_count": null,
   "id": "22c009f0",
   "metadata": {},
   "outputs": [],
   "source": [
    "plt.scatter(x, y)\n",
    "plt.xlabel('Name of the x-axis')\n",
    "plt.ylabel('Name of the y-axis')\n",
    "plt.title('The title')"
   ]
  },
  {
   "cell_type": "markdown",
   "id": "ab9a0dc5",
   "metadata": {},
   "source": [
    "you can have multiple plots"
   ]
  },
  {
   "cell_type": "code",
   "execution_count": null,
   "id": "9a9edaae",
   "metadata": {},
   "outputs": [],
   "source": [
    "fig, ax = plt.subplots(2, 2)\n",
    "ax[0, 0].scatter(x, y, color='black')\n",
    "ax[0, 1].scatter(x, y, color='blue')\n",
    "ax[1, 0].scatter(x, y, color='red')\n",
    "ax[1, 1].scatter(x, y, alpha=0.1)"
   ]
  },
  {
   "cell_type": "markdown",
   "id": "dc56870f",
   "metadata": {},
   "source": [
    "Matplotlib supports many types of plots, such as scatter plots, histograms, and more. You can browse the full list here:\n",
    "https://matplotlib.org/stable/plot_types/index.html\n",
    "\n",
    "For an overview of what’s possible, check out the Quick Start guide:\n",
    "https://matplotlib.org/stable/users/explain/quick_start.html"
   ]
  },
  {
   "cell_type": "markdown",
   "id": "f6a66c74",
   "metadata": {},
   "source": []
  }
 ],
 "metadata": {
  "kernelspec": {
   "display_name": "Python 3",
   "language": "python",
   "name": "python3"
  },
  "language_info": {
   "codemirror_mode": {
    "name": "ipython",
    "version": 3
   },
   "file_extension": ".py",
   "mimetype": "text/x-python",
   "name": "python",
   "nbconvert_exporter": "python",
   "pygments_lexer": "ipython3",
   "version": "3.13.5"
  }
 },
 "nbformat": 4,
 "nbformat_minor": 5
}
